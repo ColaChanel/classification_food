{
 "cells": [
  {
   "cell_type": "markdown",
   "id": "269c7f4e",
   "metadata": {},
   "source": [
    "# Импорт библиотек"
   ]
  },
  {
   "cell_type": "code",
   "execution_count": 1,
   "id": "fadf86e8",
   "metadata": {},
   "outputs": [],
   "source": [
    "#  Импортируем библиотеки, которые понадобяться в работе\n",
    "import pandas as pd\n",
    "import numpy as np\n",
    "import seaborn as sns\n",
    "import matplotlib.pyplot as plt\n",
    "import string, re, joblib\n",
    "from sklearn.model_selection import train_test_split\n",
    "from sklearn.feature_extraction.text import TfidfVectorizer\n",
    "from sklearn.linear_model import LogisticRegression\n",
    "from sklearn.metrics import f1_score, classification_report, confusion_matrix, ConfusionMatrixDisplay\n",
    "from transformers import AutoTokenizer, AutoModel\n",
    "import torch\n",
    "import torch.nn.functional as F\n",
    "from tqdm import tqdm\n",
    "from sklearn.preprocessing import LabelEncoder\n",
    "from torch.utils.data import Dataset, DataLoader\n",
    "from torch import nn\n",
    "from transformers import AutoModelForSequenceClassification"
   ]
  },
  {
   "cell_type": "markdown",
   "id": "5b637798",
   "metadata": {},
   "source": [
    "# EDA"
   ]
  },
  {
   "cell_type": "markdown",
   "id": "db2eedc8",
   "metadata": {},
   "source": [
    "Проведем EDA (Exploratory Data Analysis) - Исследовательский Анализ Данных"
   ]
  },
  {
   "cell_type": "code",
   "execution_count": 2,
   "id": "b77ff551",
   "metadata": {},
   "outputs": [
    {
     "data": {
      "text/html": [
       "<div>\n",
       "<style scoped>\n",
       "    .dataframe tbody tr th:only-of-type {\n",
       "        vertical-align: middle;\n",
       "    }\n",
       "\n",
       "    .dataframe tbody tr th {\n",
       "        vertical-align: top;\n",
       "    }\n",
       "\n",
       "    .dataframe thead th {\n",
       "        text-align: right;\n",
       "    }\n",
       "</style>\n",
       "<table border=\"1\" class=\"dataframe\">\n",
       "  <thead>\n",
       "    <tr style=\"text-align: right;\">\n",
       "      <th></th>\n",
       "      <th>text</th>\n",
       "      <th>intent</th>\n",
       "    </tr>\n",
       "  </thead>\n",
       "  <tbody>\n",
       "    <tr>\n",
       "      <th>0</th>\n",
       "      <td>Хочу заказать пиццу пепперони и колу</td>\n",
       "      <td>order</td>\n",
       "    </tr>\n",
       "    <tr>\n",
       "      <th>1</th>\n",
       "      <td>Отмените мой последний заказ пожалуйста</td>\n",
       "      <td>cancel</td>\n",
       "    </tr>\n",
       "    <tr>\n",
       "      <th>2</th>\n",
       "      <td>Как оплатить заказ картой онлайн?</td>\n",
       "      <td>payment</td>\n",
       "    </tr>\n",
       "    <tr>\n",
       "      <th>3</th>\n",
       "      <td>Курьер опоздал на 40 минут, требую компенсацию</td>\n",
       "      <td>complaint</td>\n",
       "    </tr>\n",
       "    <tr>\n",
       "      <th>4</th>\n",
       "      <td>Две пасты карбонара и салат цезарь на адрес Тв...</td>\n",
       "      <td>order</td>\n",
       "    </tr>\n",
       "    <tr>\n",
       "      <th>...</th>\n",
       "      <td>...</td>\n",
       "      <td>...</td>\n",
       "    </tr>\n",
       "    <tr>\n",
       "      <th>104</th>\n",
       "      <td>Закажите пиццу вегетарианскую</td>\n",
       "      <td>order</td>\n",
       "    </tr>\n",
       "    <tr>\n",
       "      <th>105</th>\n",
       "      <td>Атменить заказ #888</td>\n",
       "      <td>cancel</td>\n",
       "    </tr>\n",
       "    <tr>\n",
       "      <th>106</th>\n",
       "      <td>Оплата не проходит чз прил</td>\n",
       "      <td>payment</td>\n",
       "    </tr>\n",
       "    <tr>\n",
       "      <th>107</th>\n",
       "      <td>Пицца недопеченая!</td>\n",
       "      <td>complaint</td>\n",
       "    </tr>\n",
       "    <tr>\n",
       "      <th>108</th>\n",
       "      <td>Срочно нужен кофе!</td>\n",
       "      <td>order</td>\n",
       "    </tr>\n",
       "  </tbody>\n",
       "</table>\n",
       "<p>109 rows × 2 columns</p>\n",
       "</div>"
      ],
      "text/plain": [
       "                                                  text     intent\n",
       "0                 Хочу заказать пиццу пепперони и колу      order\n",
       "1              Отмените мой последний заказ пожалуйста     cancel\n",
       "2                    Как оплатить заказ картой онлайн?    payment\n",
       "3       Курьер опоздал на 40 минут, требую компенсацию  complaint\n",
       "4    Две пасты карбонара и салат цезарь на адрес Тв...      order\n",
       "..                                                 ...        ...\n",
       "104                      Закажите пиццу вегетарианскую      order\n",
       "105                                Атменить заказ #888     cancel\n",
       "106                         Оплата не проходит чз прил    payment\n",
       "107                                 Пицца недопеченая!  complaint\n",
       "108                                 Срочно нужен кофе!      order\n",
       "\n",
       "[109 rows x 2 columns]"
      ]
     },
     "execution_count": 2,
     "metadata": {},
     "output_type": "execute_result"
    }
   ],
   "source": [
    "# Загружаем датасет для изучения\n",
    "df = pd.read_csv(\"intent_dataset.csv\")\n",
    "df"
   ]
  },
  {
   "cell_type": "code",
   "execution_count": 3,
   "id": "79c2eb8c",
   "metadata": {},
   "outputs": [
    {
     "name": "stdout",
     "output_type": "stream",
     "text": [
      "<class 'pandas.core.frame.DataFrame'>\n",
      "RangeIndex: 109 entries, 0 to 108\n",
      "Data columns (total 2 columns):\n",
      " #   Column  Non-Null Count  Dtype \n",
      "---  ------  --------------  ----- \n",
      " 0   text    109 non-null    object\n",
      " 1   intent  109 non-null    object\n",
      "dtypes: object(2)\n",
      "memory usage: 1.8+ KB\n"
     ]
    }
   ],
   "source": [
    "# смотрим информацию о датасете и пропусках\n",
    "df.info()"
   ]
  },
  {
   "cell_type": "markdown",
   "id": "f96c6d7d",
   "metadata": {},
   "source": [
    "видим что в предоставленных нам данных пропусков нет"
   ]
  },
  {
   "cell_type": "code",
   "execution_count": 4,
   "id": "47e9defb",
   "metadata": {},
   "outputs": [
    {
     "data": {
      "text/html": [
       "<div>\n",
       "<style scoped>\n",
       "    .dataframe tbody tr th:only-of-type {\n",
       "        vertical-align: middle;\n",
       "    }\n",
       "\n",
       "    .dataframe tbody tr th {\n",
       "        vertical-align: top;\n",
       "    }\n",
       "\n",
       "    .dataframe thead th {\n",
       "        text-align: right;\n",
       "    }\n",
       "</style>\n",
       "<table border=\"1\" class=\"dataframe\">\n",
       "  <thead>\n",
       "    <tr style=\"text-align: right;\">\n",
       "      <th></th>\n",
       "      <th>text</th>\n",
       "      <th>intent</th>\n",
       "    </tr>\n",
       "  </thead>\n",
       "  <tbody>\n",
       "    <tr>\n",
       "      <th>count</th>\n",
       "      <td>109</td>\n",
       "      <td>109</td>\n",
       "    </tr>\n",
       "    <tr>\n",
       "      <th>unique</th>\n",
       "      <td>109</td>\n",
       "      <td>5</td>\n",
       "    </tr>\n",
       "    <tr>\n",
       "      <th>top</th>\n",
       "      <td>Хочу заказать пиццу пепперони и колу</td>\n",
       "      <td>order</td>\n",
       "    </tr>\n",
       "    <tr>\n",
       "      <th>freq</th>\n",
       "      <td>1</td>\n",
       "      <td>25</td>\n",
       "    </tr>\n",
       "  </tbody>\n",
       "</table>\n",
       "</div>"
      ],
      "text/plain": [
       "                                        text intent\n",
       "count                                    109    109\n",
       "unique                                   109      5\n",
       "top     Хочу заказать пиццу пепперони и колу  order\n",
       "freq                                       1     25"
      ]
     },
     "execution_count": 4,
     "metadata": {},
     "output_type": "execute_result"
    }
   ],
   "source": [
    "# Смотрим статистику\n",
    "df.describe()"
   ]
  },
  {
   "cell_type": "markdown",
   "id": "d8a364e9",
   "metadata": {},
   "source": [
    "Видим из статистики что у нас 5 уникальных категорий намерений (intent) - наших классов, чаще всего встречается намерение order(заказ еды), а именно 25 раз. Посмотрим сколько раз встречаются остальные намерения:"
   ]
  },
  {
   "cell_type": "markdown",
   "id": "1dbf4d07",
   "metadata": {},
   "source": [
    "* order - Заказ еды\n",
    "* cancel - Отмена заказа\n",
    "* payment - Оплата\n",
    "* complaint - Жалоба\n",
    "* other - Другие вопросы"
   ]
  },
  {
   "cell_type": "code",
   "execution_count": 5,
   "id": "aa0387ee",
   "metadata": {},
   "outputs": [
    {
     "data": {
      "text/plain": [
       "intent\n",
       "order        25\n",
       "other        24\n",
       "complaint    22\n",
       "payment      20\n",
       "cancel       18\n",
       "Name: count, dtype: int64"
      ]
     },
     "execution_count": 5,
     "metadata": {},
     "output_type": "execute_result"
    }
   ],
   "source": [
    "df['intent'].value_counts()"
   ]
  },
  {
   "cell_type": "markdown",
   "id": "27c70450",
   "metadata": {},
   "source": [
    "видим, что меньше всего встречается намерение отмены заказа, а именно 18 раз. Для наглядности результатов дополнительно построим столбчатую диаграмму распределения классов."
   ]
  },
  {
   "cell_type": "code",
   "execution_count": null,
   "id": "4b2132eb",
   "metadata": {},
   "outputs": [
    {
     "data": {
      "text/plain": [
       "Text(0.5, 1.0, 'Распределение классов')"
      ]
     },
     "execution_count": 6,
     "metadata": {},
     "output_type": "execute_result"
    },
    {
     "data": {
      "image/png": "[encoded data removed]",
      "text/plain": [
       "<Figure size 640x480 with 1 Axes>"
      ]
     },
     "metadata": {},
     "output_type": "display_data"
    }
   ],
   "source": [
    "sns.countplot(x='intent', data=df)\n",
    "plt.title('Распределение классов')"
   ]
  },
  {
   "cell_type": "markdown",
   "id": "55d1377e",
   "metadata": {},
   "source": [
    "я решил оставить двумя способами получение длины текста"
   ]
  },
  {
   "cell_type": "markdown",
   "id": "5f1af8cc",
   "metadata": {},
   "source": [
    "Первый способ через обычный перебор, также здесь одновременно посчитаем ещё и частотность слов и символов"
   ]
  },
  {
   "cell_type": "code",
   "execution_count": 7,
   "id": "8b065d75",
   "metadata": {},
   "outputs": [
    {
     "name": "stdout",
     "output_type": "stream",
     "text": [
      "Средняя длина текста слов: 4.954128440366972\n",
      "Словарь частотности встречаемости слов отсортированный по убыванию: {'заказ': 15, 'как': 13, 'на': 13, 'с': 13, 'не': 12, 'и': 11, 'в': 11, 'можно': 9, 'почему': 9, 'курьер': 8, 'отмените': 7, 'где': 6, 'к': 6, 'есть': 6, 'пиццу': 5, 'ли': 5, 'меню': 5, 'заказать': 4, 'мой': 4, 'оплатить': 4, 'две': 4, 'отмена': 4, 'оплата': 4, 'закажите': 4, 'подписку': 4, 'у': 4, 'вас': 4, 'закажи': 4, 'доставка': 4, 'хочу': 3, 'салат': 3, 'оплаты': 3, 'доставьте': 3, 'роллы': 3, 'уже': 3, 'заказа': 3, 'пожалуйста': 2, 'цезарь': 2, 'привезли': 2, 'верните': 2, 'деньги': 2, 'после': 2, 'изза': 2, 'суп': 2, 'больше': 2, 'был': 2, 'я': 2, 'передумал': 2, 'через': 2, 'пиццы': 2, 'доставкой': 2, 'проходит': 2, 'карты': 2, 'суши': 2, 'мне': 2, 'доставку': 2, 'бургера': 2, '4': 2, 'супе': 2, 'волос': 2, 'отменить': 2, 'персон': 2, 'для': 2, 'при': 2, 'нет': 2, 'кофе': 2, 'сколько': 2, 'еда': 2, 'глючит': 2, '2': 2, 'найти': 2, 'срочно': 2, 'пепперони': 1, 'колу': 1, 'последний': 1, 'картой': 1, 'онлайн': 1, 'опоздал': 1, '40': 1, 'минут': 1, 'требую': 1, 'компенсацию': 1, 'пасты': 1, 'карбонара': 1, 'адрес': 1, 'тверская': 1, '15': 1, 'соус': 1, 'заказано': 1, 'посмотреть': 1, 'историю': 1, 'заказов': 1, 'изменить': 1, 'способ': 1, 'оформления': 1, '789': 1, 'смены': 1, 'планов': 1, 'филадельфия': 1, 'томям': 1, 'меня': 1, 'списали': 1, 'сумму': 1, 'заявленной': 1, 'салате': 1, 'посторонний': 1, 'предмет': 1, 'фото': 1, 'прикрепляю': 1, 'повторить': 1, 'вчерашний': 1, '12345': 1, 'оформить': 1, 'предоплату': 1, 'apple': 1, 'pay': 1, 'груб': 1, 'примите': 1, 'меры': 1, '3': 1, 'маргарита': 1, '1900': 1, 'ошиблась': 1, 'адресом': 1, 'текущий': 1, 'сбербанка': 1, 'приехали': 1, 'теплые': 1, 'качество': 1, 'упало': 1, 'шаурмы': 1, 'курицей': 1, 'фанту': 1, 'уехал': 1, 'из': 1, 'офиса': 1, 'привязать': 1, 'новую': 1, 'карту': 1, 'аккаунту': 1, 'чеке': 1, 'ошибка': 1, 'сумма': 1, 'совпадает': 1, 'борщ': 1, 'греческий': 1, 'компот': 1, 'обед': 1, '678': 1, 'долгой': 1, 'доставки': 1, 'автоплатеж': 1, 'сработал': 1, 'съел': 1, 'половину': 1, 'моего': 1, 'сыра': 1, 'завтра': 1, '1300': 1, 'еженедельную': 1, 'разделить': 1, 'оплату': 1, 'плавает': 1, 'это': 1, 'отвратительно': 1, 'самса': 1, 'говядиной': 1, 'шт': 1, 'лагман': 1, 'нельзя': 1, 'подтверждения': 1, 'оплатил': 1, 'приложение': 1, 'но': 1, 'статус': 1, 'ожидает': 1, 'весь': 1, 'пролился': 1, 'пакете': 1, 'заново': 1, 'бизнесланс': 1, '5': 1, '999': 1, 'берет': 1, 'трубку': 1, 'получить': 1, 'электронный': 1, 'чек': 1, 'прислали': 1, 'чужой': 1, 'калифорния': 1, '8': 1, '1830': 1, 'насчет': 1, 'завтрака': 1, 'оплате': 1, 'криптой': 1, 'скидки': 1, 'пицце': 1, 'недопекли': 1, 'тесто': 1, 'сендвич': 1, 'индейкой': 1, 'капучино': 1, 'нужно': 1, 'бонусными': 1, 'баллами': 1, 'матерился': 1, 'передаче': 1, 'плов': 1, 'чай': 1, 'каркаде': 1, 'парк': 1, 'горького': 1, 'филиалов': 1, 'москве': 1, 'веганское': 1, 'устроиться': 1, 'вам': 1, 'курьером': 1, 'новый': 1, 'год': 1, 'программа': 1, 'лояльности': 1, 'ананасами': 1, 'пж': 1, 'атмените': 1, '123': 1, 'заплотить': 1, 'приехал': 1, 'пьяный': 1, 'хачу': 1, 'шаверму': 1, 'сис': 1, 'бараниной': 1, 'отмеите': 1, 'закас': 1, '456': 1, 'проходыт': 1, 'пица': 1, 'была': 1, 'халодная': 1, 'супч': 1, 'салаат': 1, 'моя': 1, 'жду': 1, 'час': 1, 'скидку': 1, 'студентов': 1, 'какие': 1, 'часы': 1, 'работы': 1, 'за': 1, 'город': 1, 'связаться': 1, 'техподдержкой': 1, 'приехать': 1, 'самовывозом': 1, 'приложении': 1, 'чиз': 1, 'отьмени': 1, 'могу': 1, 'тот': 1, 'опять': 1, 'хаюшки': 1, 'районо': 1, 'когдд': 1, 'будет': 1, 'скиньте': 1, 'менюшку': 1, 'платная': 1, 'без': 1, 'пластика': 1, 'упаковку': 1, 'детское': 1, 'звонит': 1, 'дом': 1, 'отмени': 1, 'всё': 1, 'чертям': 1, 'холодная': 1, 'лед': 1, 'дайте': 1, 'стоит': 1, 'акции': 1, 'сегодня': 1, 'наличкой': 1, 'фу': 1, 'бургер': 1, 'кола': 1, 'часа': 1, 'применить': 1, 'промокод': 1, 'работу': 1, '777': 1, 'приходит': 1, 'смс': 1, 'кодом': 1, 'потерял': 1, 'куриный': 1, 'wifi': 1, 'зале': 1, 'собакой': 1, 'кафе': 1, 'состав': 1, 'блюд': 1, 'восстановить': 1, 'пароль': 1, 'русского': 1, 'вегетарианскую': 1, 'атменить': 1, '888': 1, 'чз': 1, 'прил': 1, 'пицца': 1, 'недопеченая': 1, 'нужен': 1}\n",
      "Словаь частотности символов: {'х': 16, 'о': 249, 'ч': 40, 'у': 100, ' ': 431, 'з': 87, 'а': 298, 'к': 153, 'т': 183, 'ь': 63, 'п': 120, 'и': 166, 'ц': 24, 'е': 230, 'р': 123, 'н': 144, 'л': 113, 'м': 94, 'й': 36, 'с': 138, 'д': 81, 'ж': 34, '4': 5, '0': 6, 'б': 31, 'ю': 17, 'в': 76, 'ы': 28, 'я': 32, '1': 6, '5': 4, 'г': 31, 'ф': 13, '7': 5, '8': 7, '9': 5, 'ш': 12, '2': 4, '3': 5, 'a': 2, 'p': 3, 'l': 1, 'e': 1, 'y': 1, 'щ': 2, '6': 2, 'ъ': 1, 'э': 2, 'ё': 1, 'w': 1, 'i': 2, 'f': 1}\n"
     ]
    }
   ],
   "source": [
    "counter = [] # список для подсчета длины слов\n",
    "words = {} # словарь частотности слов\n",
    "symbols = {} # словарь частотности символов\n",
    "for i in df['text']:\n",
    "    i = str.lower(i) # приводим к нижнему регистру\n",
    "    i = re.sub(r\"[{}]\".format(string.punctuation), \"\", i) # убираем пунктуацию\n",
    "    a = [l for l in i.split(' ')]\n",
    "    counter.append(len(a))\n",
    "    for el in a:\n",
    "        if el not in words:\n",
    "            words[el]= 1\n",
    "        else:\n",
    "            words[el]+=1\n",
    "    for l in i:\n",
    "        if l not in symbols:\n",
    "            symbols[l] = 1\n",
    "        else:\n",
    "            symbols[l] +=1\n",
    "# произведем сортировку слов в словаре по убыванию\n",
    "sorted_words =dict(sorted(words.items(), key=lambda item: item[1], reverse=True)) \n",
    "print(\"Средняя длина текста слов:\", np.mean(counter))\n",
    "print(\"Словарь частотности встречаемости слов отсортированный по убыванию:\", sorted_words)\n",
    "print(\"Словаь частотности символов:\", symbols)"
   ]
  },
  {
   "cell_type": "code",
   "execution_count": 8,
   "id": "baf69565",
   "metadata": {},
   "outputs": [
    {
     "name": "stdout",
     "output_type": "stream",
     "text": [
      "Средняя длина текста: 4.954128440366972\n"
     ]
    }
   ],
   "source": [
    "# Второй способ, для вычисления длины текста, также записываем длину в наш Data Frame\n",
    "df['text_len'] = df['text'].apply(lambda x: len(x.split()))\n",
    "print(\"Средняя длина текста:\", df['text_len'].mean())"
   ]
  },
  {
   "cell_type": "markdown",
   "id": "4999c327",
   "metadata": {},
   "source": [
    "## Стратегия обработки дисбаланса классов"
   ]
  },
  {
   "cell_type": "markdown",
   "id": "786b0dcc",
   "metadata": {},
   "source": [
    "Для работы с данными с дисбалансом классов можем, в первую очередь произвсти разделение данных с сохранением баланса классов (стратификация), можем использовать взвешивание весов классов, чтобы у нас при обучении модель обращала одинаковое внимание как на малочисленные, так и на многочисленные классы(делается с помощью class_weight='balanced')"
   ]
  },
  {
   "cell_type": "markdown",
   "id": "8a96cc47",
   "metadata": {},
   "source": [
    "# Классическая модель"
   ]
  },
  {
   "cell_type": "markdown",
   "id": "b3c731ae",
   "metadata": {},
   "source": [
    "Разделяем данные на train test 80 на 20 с сохранением баланса классов (стратификацией)"
   ]
  },
  {
   "cell_type": "code",
   "execution_count": 9,
   "id": "fc80255e",
   "metadata": {},
   "outputs": [],
   "source": [
    "x,y = df['text'], df['intent']\n",
    "# так же для разделения задаем специальный параметр random_state=42(чтобы при перезапуске были те же результаты)\n",
    "x_train, x_test, y_train, y_test = train_test_split(x, y, train_size=0.8, random_state=42, stratify=y)"
   ]
  },
  {
   "cell_type": "markdown",
   "id": "2a0a8a04",
   "metadata": {},
   "source": [
    "Пишем код для векторизации текста с помощью TF-IDF"
   ]
  },
  {
   "cell_type": "code",
   "execution_count": 10,
   "id": "e1f35444",
   "metadata": {},
   "outputs": [],
   "source": [
    "# пропишем функцию предобработки, чтобы наш векторизатор приводил текст в единый стиль\n",
    "def preprocessing(line):\n",
    "    line = line.lower()\n",
    "    line = re.sub(r\"[{}]\".format(string.punctuation), \"\", line)\n",
    "    return line\n",
    "\n",
    "# прописываем векторизацию\n",
    "vectorizer = TfidfVectorizer(preprocessor=preprocessing, ngram_range=(1,2), max_features=5000)\n",
    "# обучаем векторизатор на нашем тексте\n",
    "vectorizer.fit(df['text'])\n",
    "# производим векторизацию train и test\n",
    "x_train_vect = vectorizer.transform(x_train)\n",
    "x_test_vect = vectorizer.transform(x_test)"
   ]
  },
  {
   "cell_type": "markdown",
   "id": "486297ea",
   "metadata": {},
   "source": [
    "Обучаем модель с учетом дисбаланса классов, class_weight ='balanced'"
   ]
  },
  {
   "cell_type": "code",
   "execution_count": 11,
   "id": "ea206687",
   "metadata": {},
   "outputs": [],
   "source": [
    "log_reg = LogisticRegression(class_weight='balanced', random_state=10, n_jobs=-1).fit(x_train_vect,y_train)"
   ]
  },
  {
   "cell_type": "markdown",
   "id": "02fc547f",
   "metadata": {},
   "source": [
    "Произведем оценку качества модели используя метрики F1-macro"
   ]
  },
  {
   "cell_type": "code",
   "execution_count": 12,
   "id": "d410cba6",
   "metadata": {},
   "outputs": [
    {
     "data": {
      "text/plain": [
       "0.6905194805194805"
      ]
     },
     "execution_count": 12,
     "metadata": {},
     "output_type": "execute_result"
    }
   ],
   "source": [
    "y_pred = log_reg.predict(x_test_vect)\n",
    "f1_score(y_pred, y_test, average=\"macro\")"
   ]
  },
  {
   "cell_type": "markdown",
   "id": "cd0e3703",
   "metadata": {},
   "source": [
    "видим что точность получилось средняя, данной точности недостаточно будет для введния в пользование необходимо будет улучшать, выведем classification report для дальнейшего анализа"
   ]
  },
  {
   "cell_type": "code",
   "execution_count": 13,
   "id": "e451c9bf",
   "metadata": {},
   "outputs": [
    {
     "name": "stdout",
     "output_type": "stream",
     "text": [
      "              precision    recall  f1-score   support\n",
      "\n",
      "      cancel       0.75      1.00      0.86         3\n",
      "   complaint       0.75      0.43      0.55         7\n",
      "       order       0.60      1.00      0.75         3\n",
      "       other       0.40      0.67      0.50         3\n",
      "     payment       1.00      0.67      0.80         6\n",
      "\n",
      "    accuracy                           0.68        22\n",
      "   macro avg       0.70      0.75      0.69        22\n",
      "weighted avg       0.75      0.68      0.68        22\n",
      "\n"
     ]
    }
   ],
   "source": [
    "results_simple_log=classification_report(y_pred, y_test)\n",
    "print(results_simple_log)"
   ]
  },
  {
   "cell_type": "markdown",
   "id": "9c2b49fe",
   "metadata": {},
   "source": [
    "из classification report видем что модель плохо предсказывает такие классы как: \n",
    "* other(другие вопросы) 0.4 precision и плохо его может отличить от остальных классов (0.67 recall); \n",
    "* order (заказ еды) 0.6 precision; \n",
    "* также можно увидеть что класс complaint имеет хорошую точность предсказания, но плохо различим от других классов recall 0.43"
   ]
  },
  {
   "cell_type": "markdown",
   "id": "6272aee2",
   "metadata": {},
   "source": [
    "Выведем confusion matrix, чтобы проанализировать, как что у нас часто определяет неправильно"
   ]
  },
  {
   "cell_type": "code",
   "execution_count": 14,
   "id": "b4c6367e",
   "metadata": {},
   "outputs": [
    {
     "data": {
      "image/png": "[encoded data removed]",
      "text/plain": [
       "<Figure size 640x480 with 2 Axes>"
      ]
     },
     "metadata": {},
     "output_type": "display_data"
    }
   ],
   "source": [
    "cm = confusion_matrix(y_test, y_pred, labels=log_reg.classes_)\n",
    "disp_log_reg = ConfusionMatrixDisplay(confusion_matrix=cm,\n",
    "                              display_labels=log_reg.classes_)\n",
    "disp_log_reg.plot()\n",
    "plt.show()"
   ]
  },
  {
   "cell_type": "markdown",
   "id": "dc96d37a",
   "metadata": {},
   "source": [
    "Так по матрице смежности можем увидеть что:\n",
    "* у нас отмена в 1 случае была предсказана как жалоба; \n",
    "* Жалоба в 1 случае была предсказана как другой вопрос; \n",
    "* Заказ дважды был предсказан неверно как жалоба; \n",
    "* Другой вопрос был предсказан 1 раз как жалоба 2 раза как оплата. "
   ]
  },
  {
   "cell_type": "code",
   "execution_count": 15,
   "id": "b9c9d8a2",
   "metadata": {},
   "outputs": [],
   "source": [
    "# запишем предсказанные значения и правильные метки в DataFrame\n",
    "log_reg_pred = pd.DataFrame({\n",
    "    'text': x_test.tolist(),\n",
    "    'true_label': y_test.tolist(),\n",
    "    'pred_label': y_pred.tolist()\n",
    "})"
   ]
  },
  {
   "cell_type": "code",
   "execution_count": 16,
   "id": "a211be8f",
   "metadata": {},
   "outputs": [
    {
     "data": {
      "text/plain": [
       "['models/log_reg.pkl']"
      ]
     },
     "execution_count": 16,
     "metadata": {},
     "output_type": "execute_result"
    }
   ],
   "source": [
    "# Сохраняем модель и Векторайзер\n",
    "joblib.dump(vectorizer, 'models/vectorizer_log_reg.pkl', compress=True)\n",
    "joblib.dump(log_reg, 'models/log_reg.pkl',)"
   ]
  },
  {
   "cell_type": "markdown",
   "id": "5a934517",
   "metadata": {},
   "source": [
    "# Нейросетевая модель"
   ]
  },
  {
   "cell_type": "markdown",
   "id": "aeabd0be",
   "metadata": {},
   "source": [
    "Загружаем модель и её токенизатор"
   ]
  },
  {
   "cell_type": "code",
   "execution_count": 17,
   "id": "20c107af",
   "metadata": {},
   "outputs": [],
   "source": [
    "tokenizer = AutoTokenizer.from_pretrained('sentence-transformers/all-MiniLM-L6-v2')\n",
    "model = AutoModel.from_pretrained('sentence-transformers/all-MiniLM-L6-v2')"
   ]
  },
  {
   "cell_type": "markdown",
   "id": "46413bbe",
   "metadata": {},
   "source": [
    "Вычисляем доступность видеокарты для ускорения обучения"
   ]
  },
  {
   "cell_type": "code",
   "execution_count": 18,
   "id": "403cf1f6",
   "metadata": {},
   "outputs": [
    {
     "name": "stdout",
     "output_type": "stream",
     "text": [
      "Is CUDA supported by this system?True\n",
      "CUDA version: 12.6\n",
      "ID of current CUDA device:0\n",
      "Name of current CUDA device:NVIDIA GeForce RTX 2070 Super\n",
      "How many devices 1\n"
     ]
    }
   ],
   "source": [
    "print(f\"Is CUDA supported by this system?{torch.cuda.is_available()}\")\n",
    "print(f\"CUDA version: {torch.version.cuda}\")\n",
    "cuda_id = torch.cuda.current_device()\n",
    "print(f\"ID of current CUDA device:{torch.cuda.current_device()}\")\n",
    "    \n",
    "print(f\"Name of current CUDA device:{torch.cuda.get_device_name(cuda_id)}\")\n",
    "print(f\"How many devices {torch.cuda.device_count()}\")\n",
    "device = torch.device('cuda') if torch.cuda.is_available() else torch.device('cpu')"
   ]
  },
  {
   "cell_type": "markdown",
   "id": "051d37cb",
   "metadata": {},
   "source": [
    "пишем функцию для вычисления векторных представлений текста (эмбедингов)"
   ]
  },
  {
   "cell_type": "code",
   "execution_count": 19,
   "id": "86d67967",
   "metadata": {},
   "outputs": [
    {
     "name": "stderr",
     "output_type": "stream",
     "text": [
      "100%|██████████| 6/6 [00:00<00:00, 17.56it/s]\n",
      "100%|██████████| 2/2 [00:00<00:00, 15.03it/s]\n"
     ]
    }
   ],
   "source": [
    "def encode_texts(texts, tokenizer, model, device='cpu', batch_size=16):\n",
    "    embeddings = []\n",
    "\n",
    "    for i in tqdm(range(0, len(texts), batch_size)):\n",
    "        batch = texts[i:i+batch_size]\n",
    "        inputs = tokenizer(batch, return_tensors='pt', padding=True, truncation=True).to(device)\n",
    "        with torch.no_grad():\n",
    "            outputs = model(**inputs)\n",
    "            # Получаем эмбеддинги токенов (batch_size x seq_len x hidden_size)\n",
    "            token_embeddings = outputs.last_hidden_state  # [B, T, H]\n",
    "            # Усредняем по всем токенам\n",
    "            attention_mask = inputs['attention_mask'].unsqueeze(-1).expand(token_embeddings.size())\n",
    "            sum_embeddings = (token_embeddings * attention_mask).sum(dim=1)\n",
    "            sum_mask = attention_mask.sum(dim=1)\n",
    "            sentence_embeddings = sum_embeddings / sum_mask\n",
    "\n",
    "            embeddings.append(sentence_embeddings.cpu().numpy())\n",
    "\n",
    "    return np.vstack(embeddings)\n",
    "\n",
    "# вычисляем эмбединги применяя написанную нами функцию\n",
    "X_train_emb = encode_texts(x_train.tolist(), tokenizer, model)\n",
    "X_test_emb = encode_texts(x_test.tolist(), tokenizer, model)"
   ]
  },
  {
   "cell_type": "markdown",
   "id": "1b7c52c5",
   "metadata": {},
   "source": [
    "## Строим простую модель классификатора поверх эмбеддингов"
   ]
  },
  {
   "cell_type": "code",
   "execution_count": 20,
   "id": "4bb2ba8b",
   "metadata": {},
   "outputs": [],
   "source": [
    "log_reg_bert = LogisticRegression(class_weight='balanced', random_state=10, n_jobs=-1).fit(X_train_emb, y_train)\n",
    "y_pred = log_reg_bert.predict(X_test_emb) # предсказываем значения"
   ]
  },
  {
   "cell_type": "code",
   "execution_count": 21,
   "id": "e03700ba",
   "metadata": {},
   "outputs": [
    {
     "name": "stdout",
     "output_type": "stream",
     "text": [
      "F1-macro: 0.6868686868686867\n",
      "              precision    recall  f1-score   support\n",
      "\n",
      "      cancel       1.00      0.50      0.67         4\n",
      "   complaint       0.43      0.75      0.55         4\n",
      "       order       1.00      0.80      0.89         5\n",
      "       other       0.75      0.60      0.67         5\n",
      "     payment       0.60      0.75      0.67         4\n",
      "\n",
      "    accuracy                           0.68        22\n",
      "   macro avg       0.76      0.68      0.69        22\n",
      "weighted avg       0.77      0.68      0.70        22\n",
      "\n"
     ]
    }
   ],
   "source": [
    "# выводим метрики по обученной модели\n",
    "log_reg_bert_results = classification_report(y_test, y_pred)\n",
    "print(\"F1-macro:\", f1_score(y_test, y_pred, average='macro'))\n",
    "print(log_reg_bert_results)"
   ]
  },
  {
   "cell_type": "markdown",
   "id": "3b9a6b0b",
   "metadata": {},
   "source": [
    "видим что наша модель предсказывает с точностью 69% все классы, при этом плохо обучилась предсказывать complaint(43%) и payment(60%), также можно заметить моделе тяжело отделить cancel от других классов(recall 50%)"
   ]
  },
  {
   "cell_type": "markdown",
   "id": "59510596",
   "metadata": {},
   "source": [
    "Выведем confusion matrix, чтобы проанализировать, как что у нас часто определяет неправильно"
   ]
  },
  {
   "cell_type": "code",
   "execution_count": 22,
   "id": "ff96d9e9",
   "metadata": {},
   "outputs": [
    {
     "data": {
      "image/png": "[encoded data removed]",
      "text/plain": [
       "<Figure size 640x480 with 2 Axes>"
      ]
     },
     "metadata": {},
     "output_type": "display_data"
    }
   ],
   "source": [
    "cm = confusion_matrix(y_test, y_pred, labels=log_reg_bert.classes_)\n",
    "disp_log_reg_bert = ConfusionMatrixDisplay(confusion_matrix=cm,\n",
    "                              display_labels=log_reg_bert.classes_)\n",
    "disp_log_reg_bert.plot()\n",
    "plt.show()"
   ]
  },
  {
   "cell_type": "markdown",
   "id": "fe396b61",
   "metadata": {},
   "source": [
    "Так по матрице смежности можем увидеть что:\n",
    "* у нас отмена в 1 случае была предсказана как жалоба, в 1 случае как платеж\n",
    "* Жалоба в 1 случае была предсказана как другой вопрос; \n",
    "* Заказ 1 раз был предсказан неверно как жалоба; \n",
    "* Другой вопрос был предсказан 1 раз как жалоба, 1 раза как оплата.\n",
    "* Платеж был предсказан 1 раз как жалоба "
   ]
  },
  {
   "cell_type": "code",
   "execution_count": 23,
   "id": "4190e704",
   "metadata": {},
   "outputs": [],
   "source": [
    "# запишем предсказанные значения и правильные метки в DataFrame\n",
    "log_reg_bert_pred = pd.DataFrame({\n",
    "    'text': x_test.tolist(),\n",
    "    'true_label': y_test.tolist(),\n",
    "    'pred_label': y_pred.tolist()\n",
    "})"
   ]
  },
  {
   "cell_type": "code",
   "execution_count": 24,
   "id": "4e892c56",
   "metadata": {},
   "outputs": [
    {
     "data": {
      "text/plain": [
       "['models/log_reg_bert.pkl']"
      ]
     },
     "execution_count": 24,
     "metadata": {},
     "output_type": "execute_result"
    }
   ],
   "source": [
    "# Сохраняем модель\n",
    "joblib.dump(log_reg_bert, 'models/log_reg_bert.pkl',)"
   ]
  },
  {
   "cell_type": "markdown",
   "id": "7b3928d2",
   "metadata": {},
   "source": [
    "## Строю простую нейронную сеть с добавлением слоев Dense"
   ]
  },
  {
   "cell_type": "markdown",
   "id": "a5eb41ca",
   "metadata": {},
   "source": [
    "слой Dense по сути в pytorch это линейный слой nn.Linear"
   ]
  },
  {
   "cell_type": "markdown",
   "id": "f79da3a5",
   "metadata": {},
   "source": [
    "Произведем перекодирование таргетов с помощью label Encoder, переведем их таким образом в числа на основе первой встречи"
   ]
  },
  {
   "cell_type": "code",
   "execution_count": 25,
   "id": "1faf71f0",
   "metadata": {},
   "outputs": [
    {
     "name": "stdout",
     "output_type": "stream",
     "text": [
      "5 384\n"
     ]
    }
   ],
   "source": [
    "le = LabelEncoder()\n",
    "y_train_le = le.fit_transform(y_train)\n",
    "y_test_le = le.transform(y_test)\n",
    "# запишем глобальные переменные для сети, количество классов, и входных значений(input_dim) \n",
    "NUM_CLASSES= len(le.classes_)\n",
    "INPUT_DIM = X_train_emb.shape[1]\n",
    "print(NUM_CLASSES, INPUT_DIM)"
   ]
  },
  {
   "cell_type": "code",
   "execution_count": 26,
   "id": "4dc59210",
   "metadata": {},
   "outputs": [],
   "source": [
    "# Класс для создания датасета\n",
    "class CustomDataset(Dataset):\n",
    "    def __init__(self, embeddings, labels):\n",
    "        self.embeddings = embeddings\n",
    "        self.labels = labels\n",
    "\n",
    "    def __len__(self):\n",
    "        return len(self.embeddings)\n",
    "\n",
    "    def __getitem__(self, idx):\n",
    "        return torch.tensor(self.embeddings[idx], dtype=torch.float32), torch.tensor(self.labels[idx])\n",
    "\n",
    "# создаем свой датасет и загрузчики данных в модель постепенные \n",
    "train_dataset = CustomDataset(X_train_emb,y_train_le)\n",
    "test_dataset = CustomDataset(X_test_emb, y_test_le)\n",
    "train_data_loader = DataLoader(train_dataset, batch_size=16, shuffle=True, num_workers=0)\n",
    "test_data_loader = DataLoader(test_dataset, batch_size=32, shuffle=False, num_workers=0)\n"
   ]
  },
  {
   "cell_type": "code",
   "execution_count": 27,
   "id": "b38c71a5",
   "metadata": {},
   "outputs": [],
   "source": [
    "# Напишем свою реализацию модели Logistic она будет представлять из себя архитектуру\n",
    "# логистической регрессии, но с двумя добавленными линейными слоями\n",
    "class ClassifierLogistic(nn.Module):\n",
    "    def __init__(self, input_dim,output_dim, hidden_dim=256):\n",
    "        super().__init__()\n",
    "        hidden_dim_2 = hidden_dim//2\n",
    "        self.fc1 = nn.Linear(input_dim, hidden_dim)\n",
    "        self.fc2 = nn.Linear(hidden_dim, hidden_dim_2)\n",
    "        self.fc3 = nn.Linear(hidden_dim_2, output_dim)\n",
    "        self.dropout = nn.Dropout(0.3)\n",
    "\n",
    "    # прописываем прямой проход модели, операции через которые будут прогоняться данные\n",
    "    # чтобы модель училась  \n",
    "    def forward(self, x):\n",
    "        x = F.relu(self.fc1(x))\n",
    "        x = self.dropout(x)\n",
    "        x = F.relu(self.fc2(x))\n",
    "        x = self.dropout(x)\n",
    "        x = self.fc3(x)\n",
    "        return x"
   ]
  },
  {
   "cell_type": "code",
   "execution_count": 28,
   "id": "d28edbdf",
   "metadata": {},
   "outputs": [
    {
     "name": "stdout",
     "output_type": "stream",
     "text": [
      "Epoch 0/100\n",
      "Epoch 1, Loss: 1.5884\n",
      "Epoch 1, Loss: 3.1894\n",
      "Epoch 1, Loss: 4.8164\n",
      "Epoch 1, Loss: 6.4077\n",
      "Epoch 1, Loss: 8.0256\n",
      "Epoch 1, Loss: 9.6405\n",
      "Epoch 1/100\n",
      "Epoch 2, Loss: 1.6088\n",
      "Epoch 2, Loss: 3.2056\n",
      "Epoch 2, Loss: 4.7919\n",
      "Epoch 2, Loss: 6.3832\n",
      "Epoch 2, Loss: 7.9908\n",
      "Epoch 2, Loss: 9.5826\n",
      "Epoch 2/100\n",
      "Epoch 3, Loss: 1.6028\n",
      "Epoch 3, Loss: 3.1948\n",
      "Epoch 3, Loss: 4.7948\n",
      "Epoch 3, Loss: 6.3704\n",
      "Epoch 3, Loss: 7.9440\n",
      "Epoch 3, Loss: 9.5095\n",
      "Epoch 3/100\n",
      "Epoch 4, Loss: 1.5814\n",
      "Epoch 4, Loss: 3.1662\n",
      "Epoch 4, Loss: 4.7345\n",
      "Epoch 4, Loss: 6.3123\n",
      "Epoch 4, Loss: 7.8854\n",
      "Epoch 4, Loss: 9.4811\n",
      "Epoch 4/100\n",
      "Epoch 5, Loss: 1.5968\n",
      "Epoch 5, Loss: 3.1409\n",
      "Epoch 5, Loss: 4.6936\n",
      "Epoch 5, Loss: 6.2780\n",
      "Epoch 5, Loss: 7.8444\n",
      "Epoch 5, Loss: 9.4485\n",
      "Epoch 5/100\n",
      "Epoch 6, Loss: 1.5738\n",
      "Epoch 6, Loss: 3.1177\n",
      "Epoch 6, Loss: 4.6989\n",
      "Epoch 6, Loss: 6.2663\n",
      "Epoch 6, Loss: 7.8246\n",
      "Epoch 6, Loss: 9.3733\n",
      "Epoch 6/100\n",
      "Epoch 7, Loss: 1.5217\n",
      "Epoch 7, Loss: 3.1001\n",
      "Epoch 7, Loss: 4.6550\n",
      "Epoch 7, Loss: 6.1881\n",
      "Epoch 7, Loss: 7.7533\n",
      "Epoch 7, Loss: 9.2903\n",
      "Epoch 7/100\n",
      "Epoch 8, Loss: 1.5946\n",
      "Epoch 8, Loss: 3.1071\n",
      "Epoch 8, Loss: 4.6317\n",
      "Epoch 8, Loss: 6.1613\n",
      "Epoch 8, Loss: 7.7170\n",
      "Epoch 8, Loss: 9.2758\n",
      "Epoch 8/100\n",
      "Epoch 9, Loss: 1.5391\n",
      "Epoch 9, Loss: 3.0522\n",
      "Epoch 9, Loss: 4.5894\n",
      "Epoch 9, Loss: 6.1112\n",
      "Epoch 9, Loss: 7.6288\n",
      "Epoch 9, Loss: 9.1153\n",
      "Epoch 9/100\n",
      "Epoch 10, Loss: 1.4917\n",
      "Epoch 10, Loss: 2.9850\n",
      "Epoch 10, Loss: 4.5208\n",
      "Epoch 10, Loss: 6.0062\n",
      "Epoch 10, Loss: 7.5376\n",
      "Epoch 10, Loss: 8.9982\n",
      "Epoch 10/100\n",
      "Epoch 11, Loss: 1.4861\n",
      "Epoch 11, Loss: 2.9831\n",
      "Epoch 11, Loss: 4.4679\n",
      "Epoch 11, Loss: 5.9373\n",
      "Epoch 11, Loss: 7.3908\n",
      "Epoch 11, Loss: 8.9177\n",
      "Epoch 11/100\n",
      "Epoch 12, Loss: 1.4749\n",
      "Epoch 12, Loss: 2.9355\n",
      "Epoch 12, Loss: 4.4316\n",
      "Epoch 12, Loss: 5.8826\n",
      "Epoch 12, Loss: 7.3370\n",
      "Epoch 12, Loss: 8.7944\n",
      "Epoch 12/100\n",
      "Epoch 13, Loss: 1.4261\n",
      "Epoch 13, Loss: 2.8768\n",
      "Epoch 13, Loss: 4.3238\n",
      "Epoch 13, Loss: 5.7502\n",
      "Epoch 13, Loss: 7.1685\n",
      "Epoch 13, Loss: 8.6162\n",
      "Epoch 13/100\n",
      "Epoch 14, Loss: 1.4397\n",
      "Epoch 14, Loss: 2.8293\n",
      "Epoch 14, Loss: 4.2840\n",
      "Epoch 14, Loss: 5.6610\n",
      "Epoch 14, Loss: 7.0242\n",
      "Epoch 14, Loss: 8.4853\n",
      "Epoch 14/100\n",
      "Epoch 15, Loss: 1.3926\n",
      "Epoch 15, Loss: 2.7621\n",
      "Epoch 15, Loss: 4.1987\n",
      "Epoch 15, Loss: 5.5461\n",
      "Epoch 15, Loss: 6.8147\n",
      "Epoch 15, Loss: 8.2503\n",
      "Epoch 15/100\n",
      "Epoch 16, Loss: 1.3771\n",
      "Epoch 16, Loss: 2.7065\n",
      "Epoch 16, Loss: 4.0765\n",
      "Epoch 16, Loss: 5.4685\n",
      "Epoch 16, Loss: 6.7077\n",
      "Epoch 16, Loss: 7.9919\n",
      "Epoch 16/100\n",
      "Epoch 17, Loss: 1.2849\n",
      "Epoch 17, Loss: 2.5534\n",
      "Epoch 17, Loss: 3.9077\n",
      "Epoch 17, Loss: 5.2072\n",
      "Epoch 17, Loss: 6.5135\n",
      "Epoch 17, Loss: 7.6836\n",
      "Epoch 17/100\n",
      "Epoch 18, Loss: 1.3848\n",
      "Epoch 18, Loss: 2.6994\n",
      "Epoch 18, Loss: 3.9912\n",
      "Epoch 18, Loss: 5.1155\n",
      "Epoch 18, Loss: 6.3198\n",
      "Epoch 18, Loss: 7.4179\n",
      "Epoch 18/100\n",
      "Epoch 19, Loss: 1.2275\n",
      "Epoch 19, Loss: 2.4149\n",
      "Epoch 19, Loss: 3.6569\n",
      "Epoch 19, Loss: 4.8559\n",
      "Epoch 19, Loss: 6.0836\n",
      "Epoch 19, Loss: 7.1943\n",
      "Epoch 19/100\n",
      "Epoch 20, Loss: 1.1518\n",
      "Epoch 20, Loss: 2.3809\n",
      "Epoch 20, Loss: 3.6019\n",
      "Epoch 20, Loss: 4.6821\n",
      "Epoch 20, Loss: 5.8228\n",
      "Epoch 20, Loss: 6.6953\n",
      "Epoch 20/100\n",
      "Epoch 21, Loss: 1.2929\n",
      "Epoch 21, Loss: 2.3000\n",
      "Epoch 21, Loss: 3.4982\n",
      "Epoch 21, Loss: 4.6928\n",
      "Epoch 21, Loss: 5.7237\n",
      "Epoch 21, Loss: 6.7514\n",
      "Epoch 21/100\n",
      "Epoch 22, Loss: 1.1296\n",
      "Epoch 22, Loss: 2.1742\n",
      "Epoch 22, Loss: 3.2615\n",
      "Epoch 22, Loss: 4.3615\n",
      "Epoch 22, Loss: 5.4893\n",
      "Epoch 22, Loss: 6.5238\n",
      "Epoch 22/100\n",
      "Epoch 23, Loss: 1.1216\n",
      "Epoch 23, Loss: 2.1331\n",
      "Epoch 23, Loss: 3.1927\n",
      "Epoch 23, Loss: 4.2512\n",
      "Epoch 23, Loss: 5.2141\n",
      "Epoch 23, Loss: 6.1380\n",
      "Epoch 23/100\n",
      "Epoch 24, Loss: 1.1326\n",
      "Epoch 24, Loss: 2.0465\n",
      "Epoch 24, Loss: 2.9247\n",
      "Epoch 24, Loss: 3.9768\n",
      "Epoch 24, Loss: 4.9130\n",
      "Epoch 24, Loss: 5.8959\n",
      "Epoch 24/100\n",
      "Epoch 25, Loss: 0.9847\n",
      "Epoch 25, Loss: 2.0594\n",
      "Epoch 25, Loss: 2.9227\n",
      "Epoch 25, Loss: 3.9033\n",
      "Epoch 25, Loss: 4.7448\n",
      "Epoch 25, Loss: 5.6841\n",
      "Epoch 25/100\n",
      "Epoch 26, Loss: 0.8593\n",
      "Epoch 26, Loss: 1.7892\n",
      "Epoch 26, Loss: 2.5815\n",
      "Epoch 26, Loss: 3.6588\n",
      "Epoch 26, Loss: 4.6162\n",
      "Epoch 26, Loss: 5.2447\n",
      "Epoch 26/100\n",
      "Epoch 27, Loss: 0.9095\n",
      "Epoch 27, Loss: 1.8388\n",
      "Epoch 27, Loss: 2.7012\n",
      "Epoch 27, Loss: 3.4374\n",
      "Epoch 27, Loss: 4.2790\n",
      "Epoch 27, Loss: 5.2385\n",
      "Epoch 27/100\n",
      "Epoch 28, Loss: 0.6372\n",
      "Epoch 28, Loss: 1.4177\n",
      "Epoch 28, Loss: 2.2049\n",
      "Epoch 28, Loss: 3.1455\n",
      "Epoch 28, Loss: 4.1087\n",
      "Epoch 28, Loss: 4.6817\n",
      "Epoch 28/100\n",
      "Epoch 29, Loss: 0.8280\n",
      "Epoch 29, Loss: 1.4311\n",
      "Epoch 29, Loss: 2.2731\n",
      "Epoch 29, Loss: 3.1118\n",
      "Epoch 29, Loss: 4.0075\n",
      "Epoch 29, Loss: 4.6036\n",
      "Epoch 29/100\n",
      "Epoch 30, Loss: 0.6729\n",
      "Epoch 30, Loss: 1.3491\n",
      "Epoch 30, Loss: 2.0384\n",
      "Epoch 30, Loss: 2.8780\n",
      "Epoch 30, Loss: 3.6328\n",
      "Epoch 30, Loss: 4.4303\n",
      "Epoch 30/100\n",
      "Epoch 31, Loss: 0.4784\n",
      "Epoch 31, Loss: 1.1080\n",
      "Epoch 31, Loss: 1.8520\n",
      "Epoch 31, Loss: 2.6778\n",
      "Epoch 31, Loss: 3.3769\n",
      "Epoch 31, Loss: 4.0138\n",
      "Epoch 31/100\n",
      "Epoch 32, Loss: 0.7637\n",
      "Epoch 32, Loss: 1.3717\n",
      "Epoch 32, Loss: 1.9624\n",
      "Epoch 32, Loss: 2.5283\n",
      "Epoch 32, Loss: 3.3320\n",
      "Epoch 32, Loss: 3.8746\n",
      "Epoch 32/100\n",
      "Epoch 33, Loss: 0.7326\n",
      "Epoch 33, Loss: 1.4156\n",
      "Epoch 33, Loss: 2.2115\n",
      "Epoch 33, Loss: 2.8338\n",
      "Epoch 33, Loss: 3.3296\n",
      "Epoch 33, Loss: 3.8208\n",
      "Epoch 33/100\n",
      "Epoch 34, Loss: 0.6312\n",
      "Epoch 34, Loss: 1.3005\n",
      "Epoch 34, Loss: 2.0599\n",
      "Epoch 34, Loss: 2.6433\n",
      "Epoch 34, Loss: 3.0608\n",
      "Epoch 34, Loss: 3.6136\n",
      "Epoch 34/100\n",
      "Epoch 35, Loss: 0.5543\n",
      "Epoch 35, Loss: 1.0669\n",
      "Epoch 35, Loss: 1.5960\n",
      "Epoch 35, Loss: 2.2215\n",
      "Epoch 35, Loss: 2.7429\n",
      "Epoch 35, Loss: 3.4786\n",
      "Epoch 35/100\n",
      "Epoch 36, Loss: 0.4916\n",
      "Epoch 36, Loss: 1.1164\n",
      "Epoch 36, Loss: 1.6232\n",
      "Epoch 36, Loss: 2.2623\n",
      "Epoch 36, Loss: 2.8348\n",
      "Epoch 36, Loss: 3.0858\n",
      "Epoch 36/100\n",
      "Epoch 37, Loss: 0.6839\n",
      "Epoch 37, Loss: 1.1075\n",
      "Epoch 37, Loss: 1.4703\n",
      "Epoch 37, Loss: 1.9576\n",
      "Epoch 37, Loss: 2.5535\n",
      "Epoch 37, Loss: 2.9898\n",
      "Epoch 37/100\n",
      "Epoch 38, Loss: 0.5093\n",
      "Epoch 38, Loss: 0.9725\n",
      "Epoch 38, Loss: 1.4500\n",
      "Epoch 38, Loss: 1.9347\n",
      "Epoch 38, Loss: 2.4175\n",
      "Epoch 38, Loss: 2.8257\n",
      "Epoch 38/100\n",
      "Epoch 39, Loss: 0.2915\n",
      "Epoch 39, Loss: 0.7896\n",
      "Epoch 39, Loss: 1.2612\n",
      "Epoch 39, Loss: 1.6445\n",
      "Epoch 39, Loss: 2.2859\n",
      "Epoch 39, Loss: 2.7474\n",
      "Epoch 39/100\n",
      "Epoch 40, Loss: 0.4918\n",
      "Epoch 40, Loss: 0.9990\n",
      "Epoch 40, Loss: 1.4126\n",
      "Epoch 40, Loss: 1.7629\n",
      "Epoch 40, Loss: 2.3582\n",
      "Epoch 40, Loss: 2.8342\n",
      "Epoch 40/100\n",
      "Epoch 41, Loss: 0.3751\n",
      "Epoch 41, Loss: 0.7227\n",
      "Epoch 41, Loss: 1.0820\n",
      "Epoch 41, Loss: 1.6619\n",
      "Epoch 41, Loss: 2.0391\n",
      "Epoch 41, Loss: 2.5848\n",
      "Epoch 41/100\n",
      "Epoch 42, Loss: 0.4032\n",
      "Epoch 42, Loss: 0.8010\n",
      "Epoch 42, Loss: 1.1359\n",
      "Epoch 42, Loss: 1.5399\n",
      "Epoch 42, Loss: 1.9657\n",
      "Epoch 42, Loss: 2.6149\n",
      "Epoch 42/100\n",
      "Epoch 43, Loss: 0.3519\n",
      "Epoch 43, Loss: 0.7802\n",
      "Epoch 43, Loss: 1.0808\n",
      "Epoch 43, Loss: 1.3476\n",
      "Epoch 43, Loss: 1.7492\n",
      "Epoch 43, Loss: 2.2213\n",
      "Epoch 43/100\n",
      "Epoch 44, Loss: 0.2494\n",
      "Epoch 44, Loss: 0.7444\n",
      "Epoch 44, Loss: 0.9640\n",
      "Epoch 44, Loss: 1.2951\n",
      "Epoch 44, Loss: 1.7621\n",
      "Epoch 44, Loss: 2.1442\n",
      "Epoch 44/100\n",
      "Epoch 45, Loss: 0.3659\n",
      "Epoch 45, Loss: 0.6830\n",
      "Epoch 45, Loss: 0.9888\n",
      "Epoch 45, Loss: 1.3508\n",
      "Epoch 45, Loss: 1.7350\n",
      "Epoch 45, Loss: 2.2290\n",
      "Epoch 45/100\n",
      "Epoch 46, Loss: 0.3391\n",
      "Epoch 46, Loss: 0.6909\n",
      "Epoch 46, Loss: 1.0656\n",
      "Epoch 46, Loss: 1.2675\n",
      "Epoch 46, Loss: 1.6193\n",
      "Epoch 46, Loss: 2.1382\n",
      "Epoch 46/100\n",
      "Epoch 47, Loss: 0.3246\n",
      "Epoch 47, Loss: 0.7045\n",
      "Epoch 47, Loss: 0.9479\n",
      "Epoch 47, Loss: 1.1817\n",
      "Epoch 47, Loss: 1.5665\n",
      "Epoch 47, Loss: 1.8516\n",
      "Epoch 47/100\n",
      "Epoch 48, Loss: 0.2389\n",
      "Epoch 48, Loss: 0.5430\n",
      "Epoch 48, Loss: 0.7630\n",
      "Epoch 48, Loss: 1.1606\n",
      "Epoch 48, Loss: 1.5069\n",
      "Epoch 48, Loss: 1.7793\n",
      "Epoch 48/100\n",
      "Epoch 49, Loss: 0.2980\n",
      "Epoch 49, Loss: 0.6153\n",
      "Epoch 49, Loss: 0.8000\n",
      "Epoch 49, Loss: 1.0696\n",
      "Epoch 49, Loss: 1.2797\n",
      "Epoch 49, Loss: 1.7481\n",
      "Epoch 49/100\n",
      "Epoch 50, Loss: 0.2229\n",
      "Epoch 50, Loss: 0.5882\n",
      "Epoch 50, Loss: 0.8225\n",
      "Epoch 50, Loss: 1.1724\n",
      "Epoch 50, Loss: 1.3837\n",
      "Epoch 50, Loss: 1.5723\n",
      "Epoch 50/100\n",
      "Epoch 51, Loss: 0.3650\n",
      "Epoch 51, Loss: 0.5275\n",
      "Epoch 51, Loss: 0.7200\n",
      "Epoch 51, Loss: 0.9367\n",
      "Epoch 51, Loss: 1.1811\n",
      "Epoch 51, Loss: 1.7103\n",
      "Epoch 51/100\n",
      "Epoch 52, Loss: 0.2295\n",
      "Epoch 52, Loss: 0.5570\n",
      "Epoch 52, Loss: 0.9132\n",
      "Epoch 52, Loss: 1.1239\n",
      "Epoch 52, Loss: 1.4270\n",
      "Epoch 52, Loss: 1.5841\n",
      "Epoch 52/100\n",
      "Epoch 53, Loss: 0.1154\n",
      "Epoch 53, Loss: 0.4025\n",
      "Epoch 53, Loss: 0.5476\n",
      "Epoch 53, Loss: 0.8406\n",
      "Epoch 53, Loss: 1.0703\n",
      "Epoch 53, Loss: 1.4228\n",
      "Epoch 53/100\n",
      "Epoch 54, Loss: 0.1548\n",
      "Epoch 54, Loss: 0.3532\n",
      "Epoch 54, Loss: 0.6519\n",
      "Epoch 54, Loss: 0.9490\n",
      "Epoch 54, Loss: 1.1495\n",
      "Epoch 54, Loss: 1.2738\n",
      "Epoch 54/100\n",
      "Epoch 55, Loss: 0.1730\n",
      "Epoch 55, Loss: 0.4425\n",
      "Epoch 55, Loss: 0.6337\n",
      "Epoch 55, Loss: 0.7168\n",
      "Epoch 55, Loss: 1.0349\n",
      "Epoch 55, Loss: 1.1967\n",
      "Epoch 55/100\n",
      "Epoch 56, Loss: 0.2928\n",
      "Epoch 56, Loss: 0.6067\n",
      "Epoch 56, Loss: 0.8125\n",
      "Epoch 56, Loss: 1.0800\n",
      "Epoch 56, Loss: 1.2279\n",
      "Epoch 56, Loss: 1.3409\n",
      "Epoch 56/100\n",
      "Epoch 57, Loss: 0.1593\n",
      "Epoch 57, Loss: 0.4908\n",
      "Epoch 57, Loss: 0.6662\n",
      "Epoch 57, Loss: 0.8371\n",
      "Epoch 57, Loss: 1.0907\n",
      "Epoch 57, Loss: 1.1721\n",
      "Epoch 57/100\n",
      "Epoch 58, Loss: 0.1842\n",
      "Epoch 58, Loss: 0.3545\n",
      "Epoch 58, Loss: 0.5204\n",
      "Epoch 58, Loss: 0.7364\n",
      "Epoch 58, Loss: 0.8495\n",
      "Epoch 58, Loss: 1.1094\n",
      "Epoch 58/100\n",
      "Epoch 59, Loss: 0.2058\n",
      "Epoch 59, Loss: 0.3337\n",
      "Epoch 59, Loss: 0.4844\n",
      "Epoch 59, Loss: 0.7586\n",
      "Epoch 59, Loss: 0.9878\n",
      "Epoch 59, Loss: 1.1856\n",
      "Epoch 59/100\n",
      "Epoch 60, Loss: 0.3567\n",
      "Epoch 60, Loss: 0.4843\n",
      "Epoch 60, Loss: 0.6181\n",
      "Epoch 60, Loss: 0.8277\n",
      "Epoch 60, Loss: 0.9608\n",
      "Epoch 60, Loss: 1.0166\n",
      "Epoch 60/100\n",
      "Epoch 61, Loss: 0.2022\n",
      "Epoch 61, Loss: 0.4036\n",
      "Epoch 61, Loss: 0.5798\n",
      "Epoch 61, Loss: 0.7950\n",
      "Epoch 61, Loss: 0.9752\n",
      "Epoch 61, Loss: 1.1342\n",
      "Epoch 61/100\n",
      "Epoch 62, Loss: 0.2011\n",
      "Epoch 62, Loss: 0.3348\n",
      "Epoch 62, Loss: 0.4086\n",
      "Epoch 62, Loss: 0.7148\n",
      "Epoch 62, Loss: 0.8427\n",
      "Epoch 62, Loss: 1.0505\n",
      "Epoch 62/100\n",
      "Epoch 63, Loss: 0.1368\n",
      "Epoch 63, Loss: 0.3184\n",
      "Epoch 63, Loss: 0.4659\n",
      "Epoch 63, Loss: 0.5955\n",
      "Epoch 63, Loss: 0.7716\n",
      "Epoch 63, Loss: 0.9535\n",
      "Epoch 63/100\n",
      "Epoch 64, Loss: 0.1927\n",
      "Epoch 64, Loss: 0.3456\n",
      "Epoch 64, Loss: 0.4387\n",
      "Epoch 64, Loss: 0.5201\n",
      "Epoch 64, Loss: 0.6411\n",
      "Epoch 64, Loss: 0.8455\n",
      "Epoch 64/100\n",
      "Epoch 65, Loss: 0.1896\n",
      "Epoch 65, Loss: 0.3364\n",
      "Epoch 65, Loss: 0.4893\n",
      "Epoch 65, Loss: 0.6207\n",
      "Epoch 65, Loss: 0.8057\n",
      "Epoch 65, Loss: 0.8872\n",
      "Epoch 65/100\n",
      "Epoch 66, Loss: 0.1717\n",
      "Epoch 66, Loss: 0.3262\n",
      "Epoch 66, Loss: 0.4836\n",
      "Epoch 66, Loss: 0.6210\n",
      "Epoch 66, Loss: 0.7308\n",
      "Epoch 66, Loss: 0.8635\n",
      "Epoch 66/100\n",
      "Epoch 67, Loss: 0.1981\n",
      "Epoch 67, Loss: 0.3558\n",
      "Epoch 67, Loss: 0.4905\n",
      "Epoch 67, Loss: 0.5737\n",
      "Epoch 67, Loss: 0.6615\n",
      "Epoch 67, Loss: 0.8818\n",
      "Epoch 67/100\n",
      "Epoch 68, Loss: 0.1813\n",
      "Epoch 68, Loss: 0.3580\n",
      "Epoch 68, Loss: 0.4595\n",
      "Epoch 68, Loss: 0.5370\n",
      "Epoch 68, Loss: 0.6067\n",
      "Epoch 68, Loss: 0.7189\n",
      "Epoch 68/100\n",
      "Epoch 69, Loss: 0.1701\n",
      "Epoch 69, Loss: 0.3367\n",
      "Epoch 69, Loss: 0.4714\n",
      "Epoch 69, Loss: 0.6144\n",
      "Epoch 69, Loss: 0.6614\n",
      "Epoch 69, Loss: 0.8610\n",
      "Epoch 69/100\n",
      "Epoch 70, Loss: 0.1099\n",
      "Epoch 70, Loss: 0.2482\n",
      "Epoch 70, Loss: 0.3300\n",
      "Epoch 70, Loss: 0.4455\n",
      "Epoch 70, Loss: 0.5339\n",
      "Epoch 70, Loss: 0.7707\n",
      "Epoch 70/100\n",
      "Epoch 71, Loss: 0.0437\n",
      "Epoch 71, Loss: 0.1607\n",
      "Epoch 71, Loss: 0.3148\n",
      "Epoch 71, Loss: 0.4154\n",
      "Epoch 71, Loss: 0.5179\n",
      "Epoch 71, Loss: 0.6479\n",
      "Epoch 71/100\n",
      "Epoch 72, Loss: 0.0967\n",
      "Epoch 72, Loss: 0.1876\n",
      "Epoch 72, Loss: 0.3123\n",
      "Epoch 72, Loss: 0.4407\n",
      "Epoch 72, Loss: 0.5344\n",
      "Epoch 72, Loss: 0.7333\n",
      "Epoch 72/100\n",
      "Epoch 73, Loss: 0.0935\n",
      "Epoch 73, Loss: 0.1451\n",
      "Epoch 73, Loss: 0.2781\n",
      "Epoch 73, Loss: 0.4078\n",
      "Epoch 73, Loss: 0.4744\n",
      "Epoch 73, Loss: 0.6048\n",
      "Epoch 73/100\n",
      "Epoch 74, Loss: 0.1284\n",
      "Epoch 74, Loss: 0.2325\n",
      "Epoch 74, Loss: 0.3305\n",
      "Epoch 74, Loss: 0.4453\n",
      "Epoch 74, Loss: 0.5444\n",
      "Epoch 74, Loss: 0.6288\n",
      "Epoch 74/100\n",
      "Epoch 75, Loss: 0.1539\n",
      "Epoch 75, Loss: 0.2503\n",
      "Epoch 75, Loss: 0.3971\n",
      "Epoch 75, Loss: 0.4616\n",
      "Epoch 75, Loss: 0.5873\n",
      "Epoch 75, Loss: 0.7078\n",
      "Epoch 75/100\n",
      "Epoch 76, Loss: 0.1058\n",
      "Epoch 76, Loss: 0.1999\n",
      "Epoch 76, Loss: 0.2665\n",
      "Epoch 76, Loss: 0.3870\n",
      "Epoch 76, Loss: 0.5147\n",
      "Epoch 76, Loss: 0.5847\n",
      "Epoch 76/100\n",
      "Epoch 77, Loss: 0.0482\n",
      "Epoch 77, Loss: 0.1243\n",
      "Epoch 77, Loss: 0.3129\n",
      "Epoch 77, Loss: 0.4485\n",
      "Epoch 77, Loss: 0.5358\n",
      "Epoch 77, Loss: 0.6766\n",
      "Epoch 77/100\n",
      "Epoch 78, Loss: 0.0810\n",
      "Epoch 78, Loss: 0.1394\n",
      "Epoch 78, Loss: 0.2719\n",
      "Epoch 78, Loss: 0.3493\n",
      "Epoch 78, Loss: 0.4215\n",
      "Epoch 78, Loss: 0.5227\n",
      "Epoch 78/100\n",
      "Epoch 79, Loss: 0.0537\n",
      "Epoch 79, Loss: 0.1149\n",
      "Epoch 79, Loss: 0.2457\n",
      "Epoch 79, Loss: 0.3758\n",
      "Epoch 79, Loss: 0.4409\n",
      "Epoch 79, Loss: 0.5001\n",
      "Epoch 79/100\n",
      "Epoch 80, Loss: 0.0501\n",
      "Epoch 80, Loss: 0.1125\n",
      "Epoch 80, Loss: 0.2025\n",
      "Epoch 80, Loss: 0.2663\n",
      "Epoch 80, Loss: 0.3579\n",
      "Epoch 80, Loss: 0.5438\n",
      "Epoch 80/100\n",
      "Epoch 81, Loss: 0.0983\n",
      "Epoch 81, Loss: 0.1422\n",
      "Epoch 81, Loss: 0.2144\n",
      "Epoch 81, Loss: 0.3298\n",
      "Epoch 81, Loss: 0.4669\n",
      "Epoch 81, Loss: 0.5142\n",
      "Epoch 81/100\n",
      "Epoch 82, Loss: 0.0664\n",
      "Epoch 82, Loss: 0.1464\n",
      "Epoch 82, Loss: 0.2451\n",
      "Epoch 82, Loss: 0.3649\n",
      "Epoch 82, Loss: 0.4275\n",
      "Epoch 82, Loss: 0.5044\n",
      "Epoch 82/100\n",
      "Epoch 83, Loss: 0.0568\n",
      "Epoch 83, Loss: 0.2146\n",
      "Epoch 83, Loss: 0.2498\n",
      "Epoch 83, Loss: 0.3446\n",
      "Epoch 83, Loss: 0.3749\n",
      "Epoch 83, Loss: 0.4616\n",
      "Epoch 83/100\n",
      "Epoch 84, Loss: 0.0665\n",
      "Epoch 84, Loss: 0.1571\n",
      "Epoch 84, Loss: 0.2307\n",
      "Epoch 84, Loss: 0.2745\n",
      "Epoch 84, Loss: 0.3460\n",
      "Epoch 84, Loss: 0.4925\n",
      "Epoch 84/100\n",
      "Epoch 85, Loss: 0.0455\n",
      "Epoch 85, Loss: 0.1261\n",
      "Epoch 85, Loss: 0.2051\n",
      "Epoch 85, Loss: 0.3073\n",
      "Epoch 85, Loss: 0.3692\n",
      "Epoch 85, Loss: 0.4155\n",
      "Epoch 85/100\n",
      "Epoch 86, Loss: 0.0750\n",
      "Epoch 86, Loss: 0.1402\n",
      "Epoch 86, Loss: 0.2303\n",
      "Epoch 86, Loss: 0.2995\n",
      "Epoch 86, Loss: 0.3354\n",
      "Epoch 86, Loss: 0.4214\n",
      "Epoch 86/100\n",
      "Epoch 87, Loss: 0.0823\n",
      "Epoch 87, Loss: 0.1626\n",
      "Epoch 87, Loss: 0.2259\n",
      "Epoch 87, Loss: 0.2881\n",
      "Epoch 87, Loss: 0.3828\n",
      "Epoch 87, Loss: 0.4141\n",
      "Epoch 87/100\n",
      "Epoch 88, Loss: 0.0635\n",
      "Epoch 88, Loss: 0.1587\n",
      "Epoch 88, Loss: 0.2207\n",
      "Epoch 88, Loss: 0.2439\n",
      "Epoch 88, Loss: 0.3364\n",
      "Epoch 88, Loss: 0.3883\n",
      "Epoch 88/100\n",
      "Epoch 89, Loss: 0.0780\n",
      "Epoch 89, Loss: 0.1325\n",
      "Epoch 89, Loss: 0.2251\n",
      "Epoch 89, Loss: 0.2620\n",
      "Epoch 89, Loss: 0.3326\n",
      "Epoch 89, Loss: 0.3805\n",
      "Epoch 89/100\n",
      "Epoch 90, Loss: 0.0681\n",
      "Epoch 90, Loss: 0.1661\n",
      "Epoch 90, Loss: 0.2100\n",
      "Epoch 90, Loss: 0.2899\n",
      "Epoch 90, Loss: 0.3561\n",
      "Epoch 90, Loss: 0.4520\n",
      "Epoch 90/100\n",
      "Epoch 91, Loss: 0.0736\n",
      "Epoch 91, Loss: 0.1612\n",
      "Epoch 91, Loss: 0.2342\n",
      "Epoch 91, Loss: 0.2911\n",
      "Epoch 91, Loss: 0.3322\n",
      "Epoch 91, Loss: 0.3769\n",
      "Epoch 91/100\n",
      "Epoch 92, Loss: 0.0264\n",
      "Epoch 92, Loss: 0.0748\n",
      "Epoch 92, Loss: 0.1317\n",
      "Epoch 92, Loss: 0.2053\n",
      "Epoch 92, Loss: 0.2460\n",
      "Epoch 92, Loss: 0.3014\n",
      "Epoch 92/100\n",
      "Epoch 93, Loss: 0.0630\n",
      "Epoch 93, Loss: 0.0954\n",
      "Epoch 93, Loss: 0.2452\n",
      "Epoch 93, Loss: 0.3391\n",
      "Epoch 93, Loss: 0.3559\n",
      "Epoch 93, Loss: 0.4885\n",
      "Epoch 93/100\n",
      "Epoch 94, Loss: 0.0570\n",
      "Epoch 94, Loss: 0.1127\n",
      "Epoch 94, Loss: 0.1981\n",
      "Epoch 94, Loss: 0.2580\n",
      "Epoch 94, Loss: 0.3113\n",
      "Epoch 94, Loss: 0.3319\n",
      "Epoch 94/100\n",
      "Epoch 95, Loss: 0.0564\n",
      "Epoch 95, Loss: 0.1650\n",
      "Epoch 95, Loss: 0.2383\n",
      "Epoch 95, Loss: 0.3022\n",
      "Epoch 95, Loss: 0.3572\n",
      "Epoch 95, Loss: 0.4266\n",
      "Epoch 95/100\n",
      "Epoch 96, Loss: 0.0307\n",
      "Epoch 96, Loss: 0.0917\n",
      "Epoch 96, Loss: 0.1458\n",
      "Epoch 96, Loss: 0.1892\n",
      "Epoch 96, Loss: 0.2547\n",
      "Epoch 96, Loss: 0.3618\n",
      "Epoch 96/100\n",
      "Epoch 97, Loss: 0.0300\n",
      "Epoch 97, Loss: 0.0853\n",
      "Epoch 97, Loss: 0.1221\n",
      "Epoch 97, Loss: 0.2029\n",
      "Epoch 97, Loss: 0.2234\n",
      "Epoch 97, Loss: 0.2711\n",
      "Epoch 97/100\n",
      "Epoch 98, Loss: 0.0532\n",
      "Epoch 98, Loss: 0.1203\n",
      "Epoch 98, Loss: 0.1537\n",
      "Epoch 98, Loss: 0.2579\n",
      "Epoch 98, Loss: 0.2901\n",
      "Epoch 98, Loss: 0.4487\n",
      "Epoch 98/100\n",
      "Epoch 99, Loss: 0.0345\n",
      "Epoch 99, Loss: 0.1049\n",
      "Epoch 99, Loss: 0.1690\n",
      "Epoch 99, Loss: 0.2686\n",
      "Epoch 99, Loss: 0.3102\n",
      "Epoch 99, Loss: 0.3836\n",
      "Epoch 99/100\n",
      "Epoch 100, Loss: 0.0998\n",
      "Epoch 100, Loss: 0.1623\n",
      "Epoch 100, Loss: 0.2020\n",
      "Epoch 100, Loss: 0.2297\n",
      "Epoch 100, Loss: 0.2862\n",
      "Epoch 100, Loss: 0.3236\n",
      "Epoch 100/100\n",
      "Epoch 101, Loss: 0.0459\n",
      "Epoch 101, Loss: 0.0850\n",
      "Epoch 101, Loss: 0.1318\n",
      "Epoch 101, Loss: 0.1822\n",
      "Epoch 101, Loss: 0.2460\n",
      "Epoch 101, Loss: 0.3224\n"
     ]
    }
   ],
   "source": [
    "# инициализируем модель\n",
    "logistic = ClassifierLogistic(input_dim=INPUT_DIM, output_dim=NUM_CLASSES).to(device)\n",
    "# выбераем функцию потерь для обучения модели CrossEntropyLoss\n",
    "criterion = nn.CrossEntropyLoss()\n",
    "# Как оптимизатор возьмем Adam\n",
    "optimizer = torch.optim.Adam(logistic.parameters(), lr=2e-4)\n",
    "\n",
    "# так как модель слабая, будем прогонять её 100 эпох\n",
    "EPOCHS = 100\n",
    "for epoch in range(EPOCHS+1):\n",
    "    print(f'Epoch {epoch}/{EPOCHS}')\n",
    "    logistic.train()\n",
    "    total_loss = 0\n",
    "    for X_batch, y_batch in train_data_loader:\n",
    "        X_batch, y_batch = X_batch.to(device), y_batch.to(device)\n",
    "        optimizer.zero_grad()\n",
    "        logits =logistic(X_batch)\n",
    "        loss = criterion(logits, y_batch)\n",
    "        loss.backward()\n",
    "        optimizer.step()\n",
    "        total_loss += loss.item()\n",
    "        print(f\"Epoch {epoch+1}, Loss: {total_loss:.4f}\")"
   ]
  },
  {
   "cell_type": "markdown",
   "id": "beb6f279",
   "metadata": {},
   "source": [
    "вычисляем точность модели"
   ]
  },
  {
   "cell_type": "code",
   "execution_count": 29,
   "id": "c0bd711f",
   "metadata": {},
   "outputs": [
    {
     "name": "stdout",
     "output_type": "stream",
     "text": [
      "F1-macro: 0.7897258297258298\n",
      "              precision    recall  f1-score   support\n",
      "\n",
      "      cancel       1.00      0.75      0.86         4\n",
      "   complaint       0.43      0.75      0.55         4\n",
      "       order       1.00      0.80      0.89         5\n",
      "       other       0.80      0.80      0.80         5\n",
      "     payment       1.00      0.75      0.86         4\n",
      "\n",
      "    accuracy                           0.77        22\n",
      "   macro avg       0.85      0.77      0.79        22\n",
      "weighted avg       0.85      0.77      0.79        22\n",
      "\n"
     ]
    }
   ],
   "source": [
    "logistic.eval()\n",
    "all_preds = []\n",
    "all_true = []\n",
    "\n",
    "with torch.no_grad():\n",
    "    for X_batch, y_batch in test_data_loader:\n",
    "        X_batch = X_batch.to(device)\n",
    "        logits = logistic(X_batch)\n",
    "        preds = torch.argmax(logits, dim=1).cpu().numpy()\n",
    "        all_preds.extend(preds)\n",
    "        all_true.extend(y_batch.numpy())\n",
    "\n",
    "logistic_result = classification_report(all_true, all_preds, target_names=le.classes_)\n",
    "print(\"F1-macro:\", f1_score(all_true, all_preds, average='macro'))\n",
    "print(logistic_result)"
   ]
  },
  {
   "cell_type": "markdown",
   "id": "9cdf2ea4",
   "metadata": {},
   "source": [
    "Посмотрев на результаты можем увидеть что модель хорошо обучилась, показывает точность на всех классах 0.79 %, плохо предсказывает только жалобы(0.43%)"
   ]
  },
  {
   "cell_type": "code",
   "execution_count": 30,
   "id": "c8d88e48",
   "metadata": {},
   "outputs": [],
   "source": [
    "# сохраняем результаты предсказаний в DataFrame\n",
    "logistic_pred = pd.DataFrame({\n",
    "    'text': x_test.tolist(),\n",
    "    'true_label': le.inverse_transform(all_true),\n",
    "    'pred_label': le.inverse_transform(all_preds)\n",
    "})"
   ]
  },
  {
   "cell_type": "code",
   "execution_count": 31,
   "id": "7e22d8af",
   "metadata": {},
   "outputs": [
    {
     "data": {
      "text/plain": [
       "['models/label_encoder.pkl']"
      ]
     },
     "execution_count": 31,
     "metadata": {},
     "output_type": "execute_result"
    }
   ],
   "source": [
    "# Сохраняем модель, LabelEncoder\n",
    "torch.save(logistic.state_dict(), 'models/logistic_model.pt')\n",
    "joblib.dump(le, 'models/label_encoder.pkl')"
   ]
  },
  {
   "cell_type": "markdown",
   "id": "d7ab6ee0",
   "metadata": {},
   "source": [
    "## Дообучаем нейронную сеть трансформер"
   ]
  },
  {
   "cell_type": "markdown",
   "id": "e2928219",
   "metadata": {},
   "source": [
    "Напишем ещё одну модель трансформер, для неё мы реализуем класс Dataset другой, так как будем полностью дообучать архитектуру, и она отличается от нашей прошлой архитектуры, для них необходимы разные подготовки"
   ]
  },
  {
   "cell_type": "code",
   "execution_count": 32,
   "id": "5f368689",
   "metadata": {},
   "outputs": [],
   "source": [
    "class DatasetTune(Dataset):\n",
    "    def __init__(self, texts, labels, tokenizer, max_length=128):\n",
    "        self.texts = texts\n",
    "        self.labels = labels\n",
    "        self.tokenizer = tokenizer\n",
    "        self.max_length = max_length\n",
    "\n",
    "    def __len__(self):\n",
    "        return len(self.texts)\n",
    "    \n",
    "    def __getitem__(self, idx):\n",
    "        encoding = self.tokenizer(\n",
    "            self.texts[idx], \n",
    "            padding='max_length',\n",
    "            truncation=True,\n",
    "            max_length = self.max_length,\n",
    "            return_tensors='pt'\n",
    "        )\n",
    "        item = {key: val.squeeze(0) for key, val in encoding.items()}\n",
    "        item['labels'] = torch.tensor(self.labels[idx])\n",
    "        return item\n",
    "    \n",
    "train_dataset = DatasetTune(x_train.tolist(), y_train_le.tolist(), tokenizer)\n",
    "test_dataset = DatasetTune(x_test.tolist(), y_test_le.tolist(), tokenizer)\n",
    "train_loader = DataLoader(train_dataset, batch_size=16, shuffle=True)\n",
    "test_loader = DataLoader(test_dataset, batch_size=32)"
   ]
  },
  {
   "cell_type": "markdown",
   "id": "50e39fa7",
   "metadata": {},
   "source": [
    "Обучаем модель"
   ]
  },
  {
   "cell_type": "code",
   "execution_count": 33,
   "id": "ed770f7a",
   "metadata": {},
   "outputs": [
    {
     "name": "stderr",
     "output_type": "stream",
     "text": [
      "Some weights of BertForSequenceClassification were not initialized from the model checkpoint at sentence-transformers/all-MiniLM-L6-v2 and are newly initialized: ['classifier.bias', 'classifier.weight']\n",
      "You should probably TRAIN this model on a down-stream task to be able to use it for predictions and inference.\n",
      "100%|██████████| 6/6 [00:00<00:00,  9.69it/s]\n"
     ]
    },
    {
     "name": "stdout",
     "output_type": "stream",
     "text": [
      "Epoch 1, Loss: 9.6363\n"
     ]
    },
    {
     "name": "stderr",
     "output_type": "stream",
     "text": [
      "100%|██████████| 6/6 [00:00<00:00, 21.63it/s]\n"
     ]
    },
    {
     "name": "stdout",
     "output_type": "stream",
     "text": [
      "Epoch 2, Loss: 9.5650\n"
     ]
    },
    {
     "name": "stderr",
     "output_type": "stream",
     "text": [
      "100%|██████████| 6/6 [00:00<00:00, 19.46it/s]\n"
     ]
    },
    {
     "name": "stdout",
     "output_type": "stream",
     "text": [
      "Epoch 3, Loss: 9.4715\n"
     ]
    },
    {
     "name": "stderr",
     "output_type": "stream",
     "text": [
      "100%|██████████| 6/6 [00:00<00:00, 20.14it/s]\n"
     ]
    },
    {
     "name": "stdout",
     "output_type": "stream",
     "text": [
      "Epoch 4, Loss: 9.4383\n"
     ]
    },
    {
     "name": "stderr",
     "output_type": "stream",
     "text": [
      "100%|██████████| 6/6 [00:00<00:00, 21.69it/s]\n"
     ]
    },
    {
     "name": "stdout",
     "output_type": "stream",
     "text": [
      "Epoch 5, Loss: 9.2787\n"
     ]
    },
    {
     "name": "stderr",
     "output_type": "stream",
     "text": [
      "100%|██████████| 6/6 [00:00<00:00, 22.17it/s]\n"
     ]
    },
    {
     "name": "stdout",
     "output_type": "stream",
     "text": [
      "Epoch 6, Loss: 9.1483\n"
     ]
    },
    {
     "name": "stderr",
     "output_type": "stream",
     "text": [
      "100%|██████████| 6/6 [00:00<00:00, 22.21it/s]\n"
     ]
    },
    {
     "name": "stdout",
     "output_type": "stream",
     "text": [
      "Epoch 7, Loss: 8.8585\n"
     ]
    },
    {
     "name": "stderr",
     "output_type": "stream",
     "text": [
      "100%|██████████| 6/6 [00:00<00:00, 23.08it/s]\n"
     ]
    },
    {
     "name": "stdout",
     "output_type": "stream",
     "text": [
      "Epoch 8, Loss: 8.6057\n"
     ]
    },
    {
     "name": "stderr",
     "output_type": "stream",
     "text": [
      "100%|██████████| 6/6 [00:00<00:00, 21.99it/s]\n"
     ]
    },
    {
     "name": "stdout",
     "output_type": "stream",
     "text": [
      "Epoch 9, Loss: 8.2347\n"
     ]
    },
    {
     "name": "stderr",
     "output_type": "stream",
     "text": [
      "100%|██████████| 6/6 [00:00<00:00, 22.06it/s]\n"
     ]
    },
    {
     "name": "stdout",
     "output_type": "stream",
     "text": [
      "Epoch 10, Loss: 7.9460\n"
     ]
    },
    {
     "name": "stderr",
     "output_type": "stream",
     "text": [
      "100%|██████████| 6/6 [00:00<00:00, 18.68it/s]\n"
     ]
    },
    {
     "name": "stdout",
     "output_type": "stream",
     "text": [
      "Epoch 11, Loss: 7.4696\n"
     ]
    },
    {
     "name": "stderr",
     "output_type": "stream",
     "text": [
      "100%|██████████| 6/6 [00:00<00:00, 23.14it/s]\n"
     ]
    },
    {
     "name": "stdout",
     "output_type": "stream",
     "text": [
      "Epoch 12, Loss: 7.1077\n"
     ]
    },
    {
     "name": "stderr",
     "output_type": "stream",
     "text": [
      "100%|██████████| 6/6 [00:00<00:00, 23.02it/s]\n"
     ]
    },
    {
     "name": "stdout",
     "output_type": "stream",
     "text": [
      "Epoch 13, Loss: 6.6943\n"
     ]
    },
    {
     "name": "stderr",
     "output_type": "stream",
     "text": [
      "100%|██████████| 6/6 [00:00<00:00, 22.31it/s]\n"
     ]
    },
    {
     "name": "stdout",
     "output_type": "stream",
     "text": [
      "Epoch 14, Loss: 6.2691\n"
     ]
    },
    {
     "name": "stderr",
     "output_type": "stream",
     "text": [
      "100%|██████████| 6/6 [00:00<00:00, 22.41it/s]\n"
     ]
    },
    {
     "name": "stdout",
     "output_type": "stream",
     "text": [
      "Epoch 15, Loss: 5.8950\n"
     ]
    },
    {
     "name": "stderr",
     "output_type": "stream",
     "text": [
      "100%|██████████| 6/6 [00:00<00:00, 22.03it/s]\n"
     ]
    },
    {
     "name": "stdout",
     "output_type": "stream",
     "text": [
      "Epoch 16, Loss: 5.6790\n"
     ]
    },
    {
     "name": "stderr",
     "output_type": "stream",
     "text": [
      "100%|██████████| 6/6 [00:00<00:00, 22.96it/s]\n"
     ]
    },
    {
     "name": "stdout",
     "output_type": "stream",
     "text": [
      "Epoch 17, Loss: 5.2638\n"
     ]
    },
    {
     "name": "stderr",
     "output_type": "stream",
     "text": [
      "100%|██████████| 6/6 [00:00<00:00, 23.10it/s]\n"
     ]
    },
    {
     "name": "stdout",
     "output_type": "stream",
     "text": [
      "Epoch 18, Loss: 5.0706\n"
     ]
    },
    {
     "name": "stderr",
     "output_type": "stream",
     "text": [
      "100%|██████████| 6/6 [00:00<00:00, 21.89it/s]\n"
     ]
    },
    {
     "name": "stdout",
     "output_type": "stream",
     "text": [
      "Epoch 19, Loss: 4.7528\n"
     ]
    },
    {
     "name": "stderr",
     "output_type": "stream",
     "text": [
      "100%|██████████| 6/6 [00:00<00:00, 22.17it/s]\n"
     ]
    },
    {
     "name": "stdout",
     "output_type": "stream",
     "text": [
      "Epoch 20, Loss: 4.4578\n"
     ]
    },
    {
     "name": "stderr",
     "output_type": "stream",
     "text": [
      "100%|██████████| 6/6 [00:00<00:00, 22.83it/s]\n"
     ]
    },
    {
     "name": "stdout",
     "output_type": "stream",
     "text": [
      "Epoch 21, Loss: 4.0424\n"
     ]
    },
    {
     "name": "stderr",
     "output_type": "stream",
     "text": [
      "100%|██████████| 6/6 [00:00<00:00, 20.71it/s]\n"
     ]
    },
    {
     "name": "stdout",
     "output_type": "stream",
     "text": [
      "Epoch 22, Loss: 3.8688\n"
     ]
    },
    {
     "name": "stderr",
     "output_type": "stream",
     "text": [
      "100%|██████████| 6/6 [00:00<00:00, 23.11it/s]\n"
     ]
    },
    {
     "name": "stdout",
     "output_type": "stream",
     "text": [
      "Epoch 23, Loss: 3.5832\n"
     ]
    },
    {
     "name": "stderr",
     "output_type": "stream",
     "text": [
      "100%|██████████| 6/6 [00:00<00:00, 22.64it/s]\n"
     ]
    },
    {
     "name": "stdout",
     "output_type": "stream",
     "text": [
      "Epoch 24, Loss: 3.2962\n"
     ]
    },
    {
     "name": "stderr",
     "output_type": "stream",
     "text": [
      "100%|██████████| 6/6 [00:00<00:00, 22.02it/s]\n"
     ]
    },
    {
     "name": "stdout",
     "output_type": "stream",
     "text": [
      "Epoch 25, Loss: 2.9157\n"
     ]
    },
    {
     "name": "stderr",
     "output_type": "stream",
     "text": [
      "100%|██████████| 6/6 [00:00<00:00, 22.61it/s]\n"
     ]
    },
    {
     "name": "stdout",
     "output_type": "stream",
     "text": [
      "Epoch 26, Loss: 2.8512\n"
     ]
    },
    {
     "name": "stderr",
     "output_type": "stream",
     "text": [
      "100%|██████████| 6/6 [00:00<00:00, 22.48it/s]\n"
     ]
    },
    {
     "name": "stdout",
     "output_type": "stream",
     "text": [
      "Epoch 27, Loss: 2.5806\n"
     ]
    },
    {
     "name": "stderr",
     "output_type": "stream",
     "text": [
      "100%|██████████| 6/6 [00:00<00:00, 21.23it/s]\n"
     ]
    },
    {
     "name": "stdout",
     "output_type": "stream",
     "text": [
      "Epoch 28, Loss: 2.3275\n"
     ]
    },
    {
     "name": "stderr",
     "output_type": "stream",
     "text": [
      "100%|██████████| 6/6 [00:00<00:00, 20.51it/s]\n"
     ]
    },
    {
     "name": "stdout",
     "output_type": "stream",
     "text": [
      "Epoch 29, Loss: 2.1464\n"
     ]
    },
    {
     "name": "stderr",
     "output_type": "stream",
     "text": [
      "100%|██████████| 6/6 [00:00<00:00, 21.82it/s]\n"
     ]
    },
    {
     "name": "stdout",
     "output_type": "stream",
     "text": [
      "Epoch 30, Loss: 1.9663\n"
     ]
    },
    {
     "name": "stderr",
     "output_type": "stream",
     "text": [
      "100%|██████████| 6/6 [00:00<00:00, 22.78it/s]\n"
     ]
    },
    {
     "name": "stdout",
     "output_type": "stream",
     "text": [
      "Epoch 31, Loss: 1.8668\n"
     ]
    },
    {
     "name": "stderr",
     "output_type": "stream",
     "text": [
      "100%|██████████| 6/6 [00:00<00:00, 22.24it/s]\n"
     ]
    },
    {
     "name": "stdout",
     "output_type": "stream",
     "text": [
      "Epoch 32, Loss: 1.6900\n"
     ]
    },
    {
     "name": "stderr",
     "output_type": "stream",
     "text": [
      "100%|██████████| 6/6 [00:00<00:00, 22.80it/s]\n"
     ]
    },
    {
     "name": "stdout",
     "output_type": "stream",
     "text": [
      "Epoch 33, Loss: 1.6025\n"
     ]
    },
    {
     "name": "stderr",
     "output_type": "stream",
     "text": [
      "100%|██████████| 6/6 [00:00<00:00, 22.51it/s]\n"
     ]
    },
    {
     "name": "stdout",
     "output_type": "stream",
     "text": [
      "Epoch 34, Loss: 1.5534\n"
     ]
    },
    {
     "name": "stderr",
     "output_type": "stream",
     "text": [
      "100%|██████████| 6/6 [00:00<00:00, 22.31it/s]\n"
     ]
    },
    {
     "name": "stdout",
     "output_type": "stream",
     "text": [
      "Epoch 35, Loss: 1.4103\n"
     ]
    },
    {
     "name": "stderr",
     "output_type": "stream",
     "text": [
      "100%|██████████| 6/6 [00:00<00:00, 19.69it/s]\n"
     ]
    },
    {
     "name": "stdout",
     "output_type": "stream",
     "text": [
      "Epoch 36, Loss: 1.3374\n"
     ]
    },
    {
     "name": "stderr",
     "output_type": "stream",
     "text": [
      "100%|██████████| 6/6 [00:00<00:00, 22.26it/s]\n"
     ]
    },
    {
     "name": "stdout",
     "output_type": "stream",
     "text": [
      "Epoch 37, Loss: 1.2649\n"
     ]
    },
    {
     "name": "stderr",
     "output_type": "stream",
     "text": [
      "100%|██████████| 6/6 [00:00<00:00, 22.87it/s]\n"
     ]
    },
    {
     "name": "stdout",
     "output_type": "stream",
     "text": [
      "Epoch 38, Loss: 1.1660\n"
     ]
    },
    {
     "name": "stderr",
     "output_type": "stream",
     "text": [
      "100%|██████████| 6/6 [00:00<00:00, 22.61it/s]\n"
     ]
    },
    {
     "name": "stdout",
     "output_type": "stream",
     "text": [
      "Epoch 39, Loss: 1.1000\n"
     ]
    },
    {
     "name": "stderr",
     "output_type": "stream",
     "text": [
      "100%|██████████| 6/6 [00:00<00:00, 23.13it/s]\n"
     ]
    },
    {
     "name": "stdout",
     "output_type": "stream",
     "text": [
      "Epoch 40, Loss: 1.0465\n"
     ]
    },
    {
     "name": "stderr",
     "output_type": "stream",
     "text": [
      "100%|██████████| 6/6 [00:00<00:00, 22.72it/s]\n"
     ]
    },
    {
     "name": "stdout",
     "output_type": "stream",
     "text": [
      "Epoch 41, Loss: 0.9747\n"
     ]
    },
    {
     "name": "stderr",
     "output_type": "stream",
     "text": [
      "100%|██████████| 6/6 [00:00<00:00, 23.13it/s]\n"
     ]
    },
    {
     "name": "stdout",
     "output_type": "stream",
     "text": [
      "Epoch 42, Loss: 0.9175\n"
     ]
    },
    {
     "name": "stderr",
     "output_type": "stream",
     "text": [
      "100%|██████████| 6/6 [00:00<00:00, 22.98it/s]\n"
     ]
    },
    {
     "name": "stdout",
     "output_type": "stream",
     "text": [
      "Epoch 43, Loss: 0.8759\n"
     ]
    },
    {
     "name": "stderr",
     "output_type": "stream",
     "text": [
      "100%|██████████| 6/6 [00:00<00:00, 22.41it/s]\n"
     ]
    },
    {
     "name": "stdout",
     "output_type": "stream",
     "text": [
      "Epoch 44, Loss: 0.8386\n"
     ]
    },
    {
     "name": "stderr",
     "output_type": "stream",
     "text": [
      "100%|██████████| 6/6 [00:00<00:00, 22.88it/s]\n"
     ]
    },
    {
     "name": "stdout",
     "output_type": "stream",
     "text": [
      "Epoch 45, Loss: 0.8039\n"
     ]
    },
    {
     "name": "stderr",
     "output_type": "stream",
     "text": [
      "100%|██████████| 6/6 [00:00<00:00, 23.04it/s]\n"
     ]
    },
    {
     "name": "stdout",
     "output_type": "stream",
     "text": [
      "Epoch 46, Loss: 0.7810\n"
     ]
    },
    {
     "name": "stderr",
     "output_type": "stream",
     "text": [
      "100%|██████████| 6/6 [00:00<00:00, 20.90it/s]\n"
     ]
    },
    {
     "name": "stdout",
     "output_type": "stream",
     "text": [
      "Epoch 47, Loss: 0.7344\n"
     ]
    },
    {
     "name": "stderr",
     "output_type": "stream",
     "text": [
      "100%|██████████| 6/6 [00:00<00:00, 22.55it/s]\n"
     ]
    },
    {
     "name": "stdout",
     "output_type": "stream",
     "text": [
      "Epoch 48, Loss: 0.7170\n"
     ]
    },
    {
     "name": "stderr",
     "output_type": "stream",
     "text": [
      "100%|██████████| 6/6 [00:00<00:00, 22.18it/s]\n"
     ]
    },
    {
     "name": "stdout",
     "output_type": "stream",
     "text": [
      "Epoch 49, Loss: 0.6781\n"
     ]
    },
    {
     "name": "stderr",
     "output_type": "stream",
     "text": [
      "100%|██████████| 6/6 [00:00<00:00, 22.70it/s]\n"
     ]
    },
    {
     "name": "stdout",
     "output_type": "stream",
     "text": [
      "Epoch 50, Loss: 0.6579\n"
     ]
    },
    {
     "name": "stderr",
     "output_type": "stream",
     "text": [
      "100%|██████████| 6/6 [00:00<00:00, 23.18it/s]\n"
     ]
    },
    {
     "name": "stdout",
     "output_type": "stream",
     "text": [
      "Epoch 51, Loss: 0.6335\n"
     ]
    },
    {
     "name": "stderr",
     "output_type": "stream",
     "text": [
      "100%|██████████| 6/6 [00:00<00:00, 22.56it/s]\n"
     ]
    },
    {
     "name": "stdout",
     "output_type": "stream",
     "text": [
      "Epoch 52, Loss: 0.6101\n"
     ]
    },
    {
     "name": "stderr",
     "output_type": "stream",
     "text": [
      "100%|██████████| 6/6 [00:00<00:00, 23.19it/s]\n"
     ]
    },
    {
     "name": "stdout",
     "output_type": "stream",
     "text": [
      "Epoch 53, Loss: 0.5942\n"
     ]
    },
    {
     "name": "stderr",
     "output_type": "stream",
     "text": [
      "100%|██████████| 6/6 [00:00<00:00, 22.78it/s]\n"
     ]
    },
    {
     "name": "stdout",
     "output_type": "stream",
     "text": [
      "Epoch 54, Loss: 0.5688\n"
     ]
    },
    {
     "name": "stderr",
     "output_type": "stream",
     "text": [
      "100%|██████████| 6/6 [00:00<00:00, 22.20it/s]\n"
     ]
    },
    {
     "name": "stdout",
     "output_type": "stream",
     "text": [
      "Epoch 55, Loss: 0.5449\n"
     ]
    },
    {
     "name": "stderr",
     "output_type": "stream",
     "text": [
      "100%|██████████| 6/6 [00:00<00:00, 21.85it/s]\n"
     ]
    },
    {
     "name": "stdout",
     "output_type": "stream",
     "text": [
      "Epoch 56, Loss: 0.5232\n"
     ]
    },
    {
     "name": "stderr",
     "output_type": "stream",
     "text": [
      "100%|██████████| 6/6 [00:00<00:00, 22.18it/s]\n"
     ]
    },
    {
     "name": "stdout",
     "output_type": "stream",
     "text": [
      "Epoch 57, Loss: 0.5047\n"
     ]
    },
    {
     "name": "stderr",
     "output_type": "stream",
     "text": [
      "100%|██████████| 6/6 [00:00<00:00, 21.88it/s]\n"
     ]
    },
    {
     "name": "stdout",
     "output_type": "stream",
     "text": [
      "Epoch 58, Loss: 0.4792\n"
     ]
    },
    {
     "name": "stderr",
     "output_type": "stream",
     "text": [
      "100%|██████████| 6/6 [00:00<00:00, 22.39it/s]\n"
     ]
    },
    {
     "name": "stdout",
     "output_type": "stream",
     "text": [
      "Epoch 59, Loss: 0.4683\n"
     ]
    },
    {
     "name": "stderr",
     "output_type": "stream",
     "text": [
      "100%|██████████| 6/6 [00:00<00:00, 22.52it/s]\n"
     ]
    },
    {
     "name": "stdout",
     "output_type": "stream",
     "text": [
      "Epoch 60, Loss: 0.4621\n"
     ]
    },
    {
     "name": "stderr",
     "output_type": "stream",
     "text": [
      "100%|██████████| 6/6 [00:00<00:00, 22.72it/s]\n"
     ]
    },
    {
     "name": "stdout",
     "output_type": "stream",
     "text": [
      "Epoch 61, Loss: 0.4495\n"
     ]
    },
    {
     "name": "stderr",
     "output_type": "stream",
     "text": [
      "100%|██████████| 6/6 [00:00<00:00, 22.79it/s]\n"
     ]
    },
    {
     "name": "stdout",
     "output_type": "stream",
     "text": [
      "Epoch 62, Loss: 0.4315\n"
     ]
    },
    {
     "name": "stderr",
     "output_type": "stream",
     "text": [
      "100%|██████████| 6/6 [00:00<00:00, 21.99it/s]\n"
     ]
    },
    {
     "name": "stdout",
     "output_type": "stream",
     "text": [
      "Epoch 63, Loss: 0.4232\n"
     ]
    },
    {
     "name": "stderr",
     "output_type": "stream",
     "text": [
      "100%|██████████| 6/6 [00:00<00:00, 22.30it/s]\n"
     ]
    },
    {
     "name": "stdout",
     "output_type": "stream",
     "text": [
      "Epoch 64, Loss: 0.4119\n"
     ]
    },
    {
     "name": "stderr",
     "output_type": "stream",
     "text": [
      "100%|██████████| 6/6 [00:00<00:00, 22.68it/s]\n"
     ]
    },
    {
     "name": "stdout",
     "output_type": "stream",
     "text": [
      "Epoch 65, Loss: 0.3987\n"
     ]
    },
    {
     "name": "stderr",
     "output_type": "stream",
     "text": [
      "100%|██████████| 6/6 [00:00<00:00, 22.54it/s]\n"
     ]
    },
    {
     "name": "stdout",
     "output_type": "stream",
     "text": [
      "Epoch 66, Loss: 0.3860\n"
     ]
    },
    {
     "name": "stderr",
     "output_type": "stream",
     "text": [
      "100%|██████████| 6/6 [00:00<00:00, 22.35it/s]\n"
     ]
    },
    {
     "name": "stdout",
     "output_type": "stream",
     "text": [
      "Epoch 67, Loss: 0.3599\n"
     ]
    },
    {
     "name": "stderr",
     "output_type": "stream",
     "text": [
      "100%|██████████| 6/6 [00:00<00:00, 22.49it/s]\n"
     ]
    },
    {
     "name": "stdout",
     "output_type": "stream",
     "text": [
      "Epoch 68, Loss: 0.3659\n"
     ]
    },
    {
     "name": "stderr",
     "output_type": "stream",
     "text": [
      "100%|██████████| 6/6 [00:00<00:00, 22.77it/s]\n"
     ]
    },
    {
     "name": "stdout",
     "output_type": "stream",
     "text": [
      "Epoch 69, Loss: 0.3608\n"
     ]
    },
    {
     "name": "stderr",
     "output_type": "stream",
     "text": [
      "100%|██████████| 6/6 [00:00<00:00, 21.91it/s]\n"
     ]
    },
    {
     "name": "stdout",
     "output_type": "stream",
     "text": [
      "Epoch 70, Loss: 0.3360\n"
     ]
    },
    {
     "name": "stderr",
     "output_type": "stream",
     "text": [
      "100%|██████████| 6/6 [00:00<00:00, 21.74it/s]\n"
     ]
    },
    {
     "name": "stdout",
     "output_type": "stream",
     "text": [
      "Epoch 71, Loss: 0.3336\n"
     ]
    },
    {
     "name": "stderr",
     "output_type": "stream",
     "text": [
      "100%|██████████| 6/6 [00:00<00:00, 22.54it/s]\n"
     ]
    },
    {
     "name": "stdout",
     "output_type": "stream",
     "text": [
      "Epoch 72, Loss: 0.3259\n"
     ]
    },
    {
     "name": "stderr",
     "output_type": "stream",
     "text": [
      "100%|██████████| 6/6 [00:00<00:00, 22.72it/s]\n"
     ]
    },
    {
     "name": "stdout",
     "output_type": "stream",
     "text": [
      "Epoch 73, Loss: 0.3168\n"
     ]
    },
    {
     "name": "stderr",
     "output_type": "stream",
     "text": [
      "100%|██████████| 6/6 [00:00<00:00, 22.85it/s]\n"
     ]
    },
    {
     "name": "stdout",
     "output_type": "stream",
     "text": [
      "Epoch 74, Loss: 0.3110\n"
     ]
    },
    {
     "name": "stderr",
     "output_type": "stream",
     "text": [
      "100%|██████████| 6/6 [00:00<00:00, 23.16it/s]\n"
     ]
    },
    {
     "name": "stdout",
     "output_type": "stream",
     "text": [
      "Epoch 75, Loss: 0.3090\n"
     ]
    },
    {
     "name": "stderr",
     "output_type": "stream",
     "text": [
      "100%|██████████| 6/6 [00:00<00:00, 22.55it/s]\n"
     ]
    },
    {
     "name": "stdout",
     "output_type": "stream",
     "text": [
      "Epoch 76, Loss: 0.2951\n"
     ]
    },
    {
     "name": "stderr",
     "output_type": "stream",
     "text": [
      "100%|██████████| 6/6 [00:00<00:00, 22.51it/s]\n"
     ]
    },
    {
     "name": "stdout",
     "output_type": "stream",
     "text": [
      "Epoch 77, Loss: 0.2829\n"
     ]
    },
    {
     "name": "stderr",
     "output_type": "stream",
     "text": [
      "100%|██████████| 6/6 [00:00<00:00, 22.12it/s]\n"
     ]
    },
    {
     "name": "stdout",
     "output_type": "stream",
     "text": [
      "Epoch 78, Loss: 0.2838\n"
     ]
    },
    {
     "name": "stderr",
     "output_type": "stream",
     "text": [
      "100%|██████████| 6/6 [00:00<00:00, 22.55it/s]\n"
     ]
    },
    {
     "name": "stdout",
     "output_type": "stream",
     "text": [
      "Epoch 79, Loss: 0.2738\n"
     ]
    },
    {
     "name": "stderr",
     "output_type": "stream",
     "text": [
      "100%|██████████| 6/6 [00:00<00:00, 22.02it/s]\n"
     ]
    },
    {
     "name": "stdout",
     "output_type": "stream",
     "text": [
      "Epoch 80, Loss: 0.2739\n"
     ]
    },
    {
     "name": "stderr",
     "output_type": "stream",
     "text": [
      "100%|██████████| 6/6 [00:00<00:00, 22.21it/s]\n"
     ]
    },
    {
     "name": "stdout",
     "output_type": "stream",
     "text": [
      "Epoch 81, Loss: 0.2587\n"
     ]
    },
    {
     "name": "stderr",
     "output_type": "stream",
     "text": [
      "100%|██████████| 6/6 [00:00<00:00, 22.33it/s]\n"
     ]
    },
    {
     "name": "stdout",
     "output_type": "stream",
     "text": [
      "Epoch 82, Loss: 0.2564\n"
     ]
    },
    {
     "name": "stderr",
     "output_type": "stream",
     "text": [
      "100%|██████████| 6/6 [00:00<00:00, 22.64it/s]\n"
     ]
    },
    {
     "name": "stdout",
     "output_type": "stream",
     "text": [
      "Epoch 83, Loss: 0.2428\n"
     ]
    },
    {
     "name": "stderr",
     "output_type": "stream",
     "text": [
      "100%|██████████| 6/6 [00:00<00:00, 22.25it/s]\n"
     ]
    },
    {
     "name": "stdout",
     "output_type": "stream",
     "text": [
      "Epoch 84, Loss: 0.2467\n"
     ]
    },
    {
     "name": "stderr",
     "output_type": "stream",
     "text": [
      "100%|██████████| 6/6 [00:00<00:00, 22.09it/s]\n"
     ]
    },
    {
     "name": "stdout",
     "output_type": "stream",
     "text": [
      "Epoch 85, Loss: 0.2386\n"
     ]
    },
    {
     "name": "stderr",
     "output_type": "stream",
     "text": [
      "100%|██████████| 6/6 [00:00<00:00, 22.09it/s]\n"
     ]
    },
    {
     "name": "stdout",
     "output_type": "stream",
     "text": [
      "Epoch 86, Loss: 0.2350\n"
     ]
    },
    {
     "name": "stderr",
     "output_type": "stream",
     "text": [
      "100%|██████████| 6/6 [00:00<00:00, 22.52it/s]\n"
     ]
    },
    {
     "name": "stdout",
     "output_type": "stream",
     "text": [
      "Epoch 87, Loss: 0.2277\n"
     ]
    },
    {
     "name": "stderr",
     "output_type": "stream",
     "text": [
      "100%|██████████| 6/6 [00:00<00:00, 23.06it/s]\n"
     ]
    },
    {
     "name": "stdout",
     "output_type": "stream",
     "text": [
      "Epoch 88, Loss: 0.2232\n"
     ]
    },
    {
     "name": "stderr",
     "output_type": "stream",
     "text": [
      "100%|██████████| 6/6 [00:00<00:00, 23.07it/s]\n"
     ]
    },
    {
     "name": "stdout",
     "output_type": "stream",
     "text": [
      "Epoch 89, Loss: 0.2190\n"
     ]
    },
    {
     "name": "stderr",
     "output_type": "stream",
     "text": [
      "100%|██████████| 6/6 [00:00<00:00, 22.07it/s]\n"
     ]
    },
    {
     "name": "stdout",
     "output_type": "stream",
     "text": [
      "Epoch 90, Loss: 0.2127\n"
     ]
    },
    {
     "name": "stderr",
     "output_type": "stream",
     "text": [
      "100%|██████████| 6/6 [00:00<00:00, 22.12it/s]\n"
     ]
    },
    {
     "name": "stdout",
     "output_type": "stream",
     "text": [
      "Epoch 91, Loss: 0.2110\n"
     ]
    },
    {
     "name": "stderr",
     "output_type": "stream",
     "text": [
      "100%|██████████| 6/6 [00:00<00:00, 22.51it/s]\n"
     ]
    },
    {
     "name": "stdout",
     "output_type": "stream",
     "text": [
      "Epoch 92, Loss: 0.2019\n"
     ]
    },
    {
     "name": "stderr",
     "output_type": "stream",
     "text": [
      "100%|██████████| 6/6 [00:00<00:00, 21.99it/s]\n"
     ]
    },
    {
     "name": "stdout",
     "output_type": "stream",
     "text": [
      "Epoch 93, Loss: 0.2079\n"
     ]
    },
    {
     "name": "stderr",
     "output_type": "stream",
     "text": [
      "100%|██████████| 6/6 [00:00<00:00, 22.69it/s]\n"
     ]
    },
    {
     "name": "stdout",
     "output_type": "stream",
     "text": [
      "Epoch 94, Loss: 0.1985\n"
     ]
    },
    {
     "name": "stderr",
     "output_type": "stream",
     "text": [
      "100%|██████████| 6/6 [00:00<00:00, 22.86it/s]\n"
     ]
    },
    {
     "name": "stdout",
     "output_type": "stream",
     "text": [
      "Epoch 95, Loss: 0.1920\n"
     ]
    },
    {
     "name": "stderr",
     "output_type": "stream",
     "text": [
      "100%|██████████| 6/6 [00:00<00:00, 22.36it/s]\n"
     ]
    },
    {
     "name": "stdout",
     "output_type": "stream",
     "text": [
      "Epoch 96, Loss: 0.1901\n"
     ]
    },
    {
     "name": "stderr",
     "output_type": "stream",
     "text": [
      "100%|██████████| 6/6 [00:00<00:00, 22.73it/s]\n"
     ]
    },
    {
     "name": "stdout",
     "output_type": "stream",
     "text": [
      "Epoch 97, Loss: 0.1888\n"
     ]
    },
    {
     "name": "stderr",
     "output_type": "stream",
     "text": [
      "100%|██████████| 6/6 [00:00<00:00, 22.57it/s]\n"
     ]
    },
    {
     "name": "stdout",
     "output_type": "stream",
     "text": [
      "Epoch 98, Loss: 0.1866\n"
     ]
    },
    {
     "name": "stderr",
     "output_type": "stream",
     "text": [
      "100%|██████████| 6/6 [00:00<00:00, 21.46it/s]\n"
     ]
    },
    {
     "name": "stdout",
     "output_type": "stream",
     "text": [
      "Epoch 99, Loss: 0.1794\n"
     ]
    },
    {
     "name": "stderr",
     "output_type": "stream",
     "text": [
      "100%|██████████| 6/6 [00:00<00:00, 22.89it/s]"
     ]
    },
    {
     "name": "stdout",
     "output_type": "stream",
     "text": [
      "Epoch 100, Loss: 0.1759\n"
     ]
    },
    {
     "name": "stderr",
     "output_type": "stream",
     "text": [
      "\n"
     ]
    }
   ],
   "source": [
    "model = AutoModelForSequenceClassification.from_pretrained('sentence-transformers/all-MiniLM-L6-v2', num_labels=NUM_CLASSES).to(device)\n",
    "optimizer = torch.optim.AdamW(model.parameters(), lr=2e-5)\n",
    "for epoch in range(100):\n",
    "    model.train()\n",
    "    total_loss = 0\n",
    "    for batch in tqdm(train_loader):\n",
    "        batch = {k: v.to(device) for k,v in batch.items()}\n",
    "        outputs = model(**batch)\n",
    "        loss = outputs.loss\n",
    "        loss.backward()\n",
    "        optimizer.step()\n",
    "        optimizer.zero_grad()\n",
    "        total_loss += loss.item()\n",
    "    print(f\"Epoch {epoch+1}, Loss: {total_loss:.4f}\")"
   ]
  },
  {
   "cell_type": "markdown",
   "id": "3ee24da5",
   "metadata": {},
   "source": [
    "Вычисляем точность модели"
   ]
  },
  {
   "cell_type": "code",
   "execution_count": 34,
   "id": "586f8373",
   "metadata": {},
   "outputs": [
    {
     "name": "stdout",
     "output_type": "stream",
     "text": [
      "F1-macro: 0.8656\n",
      "              precision    recall  f1-score   support\n",
      "\n",
      "      cancel       1.00      1.00      1.00         4\n",
      "   complaint       0.67      1.00      0.80         4\n",
      "       order       1.00      0.80      0.89         5\n",
      "       other       1.00      0.80      0.89         5\n",
      "     payment       0.75      0.75      0.75         4\n",
      "\n",
      "    accuracy                           0.86        22\n",
      "   macro avg       0.88      0.87      0.87        22\n",
      "weighted avg       0.89      0.86      0.87        22\n",
      "\n"
     ]
    }
   ],
   "source": [
    "model.eval()\n",
    "all_preds = []\n",
    "all_true = []\n",
    "\n",
    "with torch.no_grad():\n",
    "    for batch in test_loader:\n",
    "        inputs = {k: v.to(device) for k, v in batch.items() if k != 'labels'}\n",
    "        labels = batch['labels'].to(device)\n",
    "\n",
    "        outputs = model(**inputs)\n",
    "        preds = torch.argmax(outputs.logits, dim=1)\n",
    "        all_preds.extend(preds.cpu().numpy())\n",
    "        all_true.extend(labels.cpu().numpy())\n",
    "\n",
    "f1 = f1_score(all_true, all_preds, average='macro')\n",
    "transformer_results = classification_report(all_true, all_preds, target_names=le.classes_, zero_division=True)\n",
    "print(f\"F1-macro: {f1:.4f}\")\n",
    "print(transformer_results)"
   ]
  },
  {
   "cell_type": "markdown",
   "id": "ec24ed75",
   "metadata": {},
   "source": [
    "Посмотрев на результаты можем увидеть что модель хорошо обучилась, показывает точность на всех классах 87 %, плохо предсказывает только жалобы(67%)"
   ]
  },
  {
   "cell_type": "code",
   "execution_count": 35,
   "id": "e1c476ae",
   "metadata": {},
   "outputs": [],
   "source": [
    "# сохраняем предсказания модели в dataframe  \n",
    "transformer_pred = pd.DataFrame({\n",
    "    'text': x_test.tolist(),\n",
    "    'true_label': le.inverse_transform(all_true),\n",
    "    'pred_label': le.inverse_transform(all_preds)\n",
    "})"
   ]
  },
  {
   "cell_type": "code",
   "execution_count": 36,
   "id": "31621913",
   "metadata": {},
   "outputs": [
    {
     "data": {
      "text/plain": [
       "('models/minilm_classifier/tokenizer_config.json',\n",
       " 'models/minilm_classifier/special_tokens_map.json',\n",
       " 'models/minilm_classifier/vocab.txt',\n",
       " 'models/minilm_classifier/added_tokens.json',\n",
       " 'models/minilm_classifier/tokenizer.json')"
      ]
     },
     "execution_count": 36,
     "metadata": {},
     "output_type": "execute_result"
    }
   ],
   "source": [
    "# Сохраняем модель\n",
    "model.save_pretrained('models/minilm_classifier/')\n",
    "tokenizer.save_pretrained('models/minilm_classifier/')"
   ]
  },
  {
   "cell_type": "markdown",
   "id": "c5f295f2",
   "metadata": {},
   "source": [
    "# Анализ и улучшения"
   ]
  },
  {
   "cell_type": "markdown",
   "id": "7d8016c6",
   "metadata": {},
   "source": [
    "## Сравнение результатов 4-х вариаций модели"
   ]
  },
  {
   "cell_type": "markdown",
   "id": "f676c03d",
   "metadata": {},
   "source": [
    "Logistic Regression простой, классическая модель"
   ]
  },
  {
   "cell_type": "code",
   "execution_count": 37,
   "id": "6dcfcfcf",
   "metadata": {},
   "outputs": [
    {
     "name": "stdout",
     "output_type": "stream",
     "text": [
      "              precision    recall  f1-score   support\n",
      "\n",
      "      cancel       0.75      1.00      0.86         3\n",
      "   complaint       0.75      0.43      0.55         7\n",
      "       order       0.60      1.00      0.75         3\n",
      "       other       0.40      0.67      0.50         3\n",
      "     payment       1.00      0.67      0.80         6\n",
      "\n",
      "    accuracy                           0.68        22\n",
      "   macro avg       0.70      0.75      0.69        22\n",
      "weighted avg       0.75      0.68      0.68        22\n",
      "\n"
     ]
    }
   ],
   "source": [
    "print(results_simple_log)"
   ]
  },
  {
   "cell_type": "markdown",
   "id": "5341cac1",
   "metadata": {},
   "source": [
    "Logistic Regression с bert-эмбеддингами"
   ]
  },
  {
   "cell_type": "code",
   "execution_count": 38,
   "id": "e72ad0c7",
   "metadata": {},
   "outputs": [
    {
     "name": "stdout",
     "output_type": "stream",
     "text": [
      "              precision    recall  f1-score   support\n",
      "\n",
      "      cancel       1.00      0.50      0.67         4\n",
      "   complaint       0.43      0.75      0.55         4\n",
      "       order       1.00      0.80      0.89         5\n",
      "       other       0.75      0.60      0.67         5\n",
      "     payment       0.60      0.75      0.67         4\n",
      "\n",
      "    accuracy                           0.68        22\n",
      "   macro avg       0.76      0.68      0.69        22\n",
      "weighted avg       0.77      0.68      0.70        22\n",
      "\n"
     ]
    }
   ],
   "source": [
    "print(log_reg_bert_results)"
   ]
  },
  {
   "cell_type": "markdown",
   "id": "a5199fb2",
   "metadata": {},
   "source": [
    "самописная реализация Logistic Regression с двумя доп слоями линейными"
   ]
  },
  {
   "cell_type": "code",
   "execution_count": 39,
   "id": "e9aad7b7",
   "metadata": {},
   "outputs": [
    {
     "name": "stdout",
     "output_type": "stream",
     "text": [
      "              precision    recall  f1-score   support\n",
      "\n",
      "      cancel       1.00      0.75      0.86         4\n",
      "   complaint       0.43      0.75      0.55         4\n",
      "       order       1.00      0.80      0.89         5\n",
      "       other       0.80      0.80      0.80         5\n",
      "     payment       1.00      0.75      0.86         4\n",
      "\n",
      "    accuracy                           0.77        22\n",
      "   macro avg       0.85      0.77      0.79        22\n",
      "weighted avg       0.85      0.77      0.79        22\n",
      "\n"
     ]
    }
   ],
   "source": [
    "print(logistic_result)"
   ]
  },
  {
   "cell_type": "markdown",
   "id": "24671465",
   "metadata": {},
   "source": [
    "Дообученная сеть трансформер"
   ]
  },
  {
   "cell_type": "code",
   "execution_count": 40,
   "id": "fe3dd8c7",
   "metadata": {},
   "outputs": [
    {
     "name": "stdout",
     "output_type": "stream",
     "text": [
      "              precision    recall  f1-score   support\n",
      "\n",
      "      cancel       1.00      1.00      1.00         4\n",
      "   complaint       0.67      1.00      0.80         4\n",
      "       order       1.00      0.80      0.89         5\n",
      "       other       1.00      0.80      0.89         5\n",
      "     payment       0.75      0.75      0.75         4\n",
      "\n",
      "    accuracy                           0.86        22\n",
      "   macro avg       0.88      0.87      0.87        22\n",
      "weighted avg       0.89      0.86      0.87        22\n",
      "\n"
     ]
    }
   ],
   "source": [
    "print(transformer_results)"
   ]
  },
  {
   "cell_type": "markdown",
   "id": "cd319017",
   "metadata": {},
   "source": [
    "### выведем таблицу ошибок каждой из моделей"
   ]
  },
  {
   "cell_type": "code",
   "execution_count": 41,
   "id": "ac7785bb",
   "metadata": {},
   "outputs": [],
   "source": [
    "pred_tables =[log_reg_pred, log_reg_bert_pred, logistic_pred, transformer_pred] \n",
    "erors_dfs = []\n",
    "for el in pred_tables:\n",
    "    eror_df = el[el['true_label'] != el['pred_label']]\n",
    "    erors_dfs.append(eror_df)"
   ]
  },
  {
   "cell_type": "code",
   "execution_count": 42,
   "id": "8aa48bb1",
   "metadata": {},
   "outputs": [
    {
     "data": {
      "text/html": [
       "<div>\n",
       "<style scoped>\n",
       "    .dataframe tbody tr th:only-of-type {\n",
       "        vertical-align: middle;\n",
       "    }\n",
       "\n",
       "    .dataframe tbody tr th {\n",
       "        vertical-align: top;\n",
       "    }\n",
       "\n",
       "    .dataframe thead th {\n",
       "        text-align: right;\n",
       "    }\n",
       "</style>\n",
       "<table border=\"1\" class=\"dataframe\">\n",
       "  <thead>\n",
       "    <tr style=\"text-align: right;\">\n",
       "      <th></th>\n",
       "      <th>text</th>\n",
       "      <th>true_label</th>\n",
       "      <th>pred_label</th>\n",
       "    </tr>\n",
       "  </thead>\n",
       "  <tbody>\n",
       "    <tr>\n",
       "      <th>4</th>\n",
       "      <td>Как устроиться к вам курьером?</td>\n",
       "      <td>other</td>\n",
       "      <td>payment</td>\n",
       "    </tr>\n",
       "    <tr>\n",
       "      <th>10</th>\n",
       "      <td>Самса с говядиной 4 шт и лагман</td>\n",
       "      <td>order</td>\n",
       "      <td>complaint</td>\n",
       "    </tr>\n",
       "    <tr>\n",
       "      <th>13</th>\n",
       "      <td>Как связаться с техподдержкой?</td>\n",
       "      <td>other</td>\n",
       "      <td>payment</td>\n",
       "    </tr>\n",
       "    <tr>\n",
       "      <th>14</th>\n",
       "      <td>В чеке ошибка, сумма не совпадает с меню</td>\n",
       "      <td>complaint</td>\n",
       "      <td>other</td>\n",
       "    </tr>\n",
       "    <tr>\n",
       "      <th>16</th>\n",
       "      <td>Отмени всё к чертям</td>\n",
       "      <td>cancel</td>\n",
       "      <td>complaint</td>\n",
       "    </tr>\n",
       "    <tr>\n",
       "      <th>19</th>\n",
       "      <td>Бургер и кола</td>\n",
       "      <td>order</td>\n",
       "      <td>complaint</td>\n",
       "    </tr>\n",
       "    <tr>\n",
       "      <th>21</th>\n",
       "      <td>Где найти состав блюд?</td>\n",
       "      <td>other</td>\n",
       "      <td>complaint</td>\n",
       "    </tr>\n",
       "  </tbody>\n",
       "</table>\n",
       "</div>"
      ],
      "text/plain": [
       "                                        text true_label pred_label\n",
       "4             Как устроиться к вам курьером?      other    payment\n",
       "10           Самса с говядиной 4 шт и лагман      order  complaint\n",
       "13            Как связаться с техподдержкой?      other    payment\n",
       "14  В чеке ошибка, сумма не совпадает с меню  complaint      other\n",
       "16                       Отмени всё к чертям     cancel  complaint\n",
       "19                             Бургер и кола      order  complaint\n",
       "21                    Где найти состав блюд?      other  complaint"
      ]
     },
     "execution_count": 42,
     "metadata": {},
     "output_type": "execute_result"
    }
   ],
   "source": [
    "# Первая таблица по простой логистической регрессии\n",
    "erors_dfs[0]"
   ]
  },
  {
   "cell_type": "markdown",
   "id": "9cc10e04",
   "metadata": {},
   "source": [
    "из таблицы видим что модель часто ошибается, относя заказ к другим меткам и не может проследить зависимости, негативный тон относит к жалабам. Также если текст начинается с еды аналогично считает, что будет жалоба. И вообще выглядит так что модель пытается всегда больше предсказывать complaint(то есть переобучилось предсказывать данный класс)"
   ]
  },
  {
   "cell_type": "code",
   "execution_count": 43,
   "id": "1f34ef13",
   "metadata": {},
   "outputs": [
    {
     "data": {
      "text/html": [
       "<div>\n",
       "<style scoped>\n",
       "    .dataframe tbody tr th:only-of-type {\n",
       "        vertical-align: middle;\n",
       "    }\n",
       "\n",
       "    .dataframe tbody tr th {\n",
       "        vertical-align: top;\n",
       "    }\n",
       "\n",
       "    .dataframe thead th {\n",
       "        text-align: right;\n",
       "    }\n",
       "</style>\n",
       "<table border=\"1\" class=\"dataframe\">\n",
       "  <thead>\n",
       "    <tr style=\"text-align: right;\">\n",
       "      <th></th>\n",
       "      <th>text</th>\n",
       "      <th>true_label</th>\n",
       "      <th>pred_label</th>\n",
       "    </tr>\n",
       "  </thead>\n",
       "  <tbody>\n",
       "    <tr>\n",
       "      <th>4</th>\n",
       "      <td>Как устроиться к вам курьером?</td>\n",
       "      <td>other</td>\n",
       "      <td>complaint</td>\n",
       "    </tr>\n",
       "    <tr>\n",
       "      <th>13</th>\n",
       "      <td>Как связаться с техподдержкой?</td>\n",
       "      <td>other</td>\n",
       "      <td>payment</td>\n",
       "    </tr>\n",
       "    <tr>\n",
       "      <th>14</th>\n",
       "      <td>В чеке ошибка, сумма не совпадает с меню</td>\n",
       "      <td>complaint</td>\n",
       "      <td>other</td>\n",
       "    </tr>\n",
       "    <tr>\n",
       "      <th>16</th>\n",
       "      <td>Отмени всё к чертям</td>\n",
       "      <td>cancel</td>\n",
       "      <td>complaint</td>\n",
       "    </tr>\n",
       "    <tr>\n",
       "      <th>17</th>\n",
       "      <td>Отмените подписку на кофе, больше не нужно</td>\n",
       "      <td>cancel</td>\n",
       "      <td>payment</td>\n",
       "    </tr>\n",
       "    <tr>\n",
       "      <th>19</th>\n",
       "      <td>Бургер и кола</td>\n",
       "      <td>order</td>\n",
       "      <td>complaint</td>\n",
       "    </tr>\n",
       "    <tr>\n",
       "      <th>20</th>\n",
       "      <td>Не могу найти где оплатить</td>\n",
       "      <td>payment</td>\n",
       "      <td>complaint</td>\n",
       "    </tr>\n",
       "  </tbody>\n",
       "</table>\n",
       "</div>"
      ],
      "text/plain": [
       "                                          text true_label pred_label\n",
       "4               Как устроиться к вам курьером?      other  complaint\n",
       "13              Как связаться с техподдержкой?      other    payment\n",
       "14    В чеке ошибка, сумма не совпадает с меню  complaint      other\n",
       "16                         Отмени всё к чертям     cancel  complaint\n",
       "17  Отмените подписку на кофе, больше не нужно     cancel    payment\n",
       "19                               Бургер и кола      order  complaint\n",
       "20                  Не могу найти где оплатить    payment  complaint"
      ]
     },
     "execution_count": 43,
     "metadata": {},
     "output_type": "execute_result"
    }
   ],
   "source": [
    "# таблица по логистической регрессии с токенизацией от трансформера\n",
    "erors_dfs[1]"
   ]
  },
  {
   "cell_type": "markdown",
   "id": "31b59524",
   "metadata": {},
   "source": [
    "здесь уже видно что модель стала чуть умнее, но начала ошибаться в тех случаях когда смежные, то есть например: Отмени подписку (можно было отнести как и к платежам, так и к отмене заказа), \"Не могу найти где оплатить\" (можно было отнести как к платежам, так и к жалобе, что тяжело найти место в приложении)."
   ]
  },
  {
   "cell_type": "code",
   "execution_count": 44,
   "id": "de0b000c",
   "metadata": {},
   "outputs": [
    {
     "data": {
      "text/html": [
       "<div>\n",
       "<style scoped>\n",
       "    .dataframe tbody tr th:only-of-type {\n",
       "        vertical-align: middle;\n",
       "    }\n",
       "\n",
       "    .dataframe tbody tr th {\n",
       "        vertical-align: top;\n",
       "    }\n",
       "\n",
       "    .dataframe thead th {\n",
       "        text-align: right;\n",
       "    }\n",
       "</style>\n",
       "<table border=\"1\" class=\"dataframe\">\n",
       "  <thead>\n",
       "    <tr style=\"text-align: right;\">\n",
       "      <th></th>\n",
       "      <th>text</th>\n",
       "      <th>true_label</th>\n",
       "      <th>pred_label</th>\n",
       "    </tr>\n",
       "  </thead>\n",
       "  <tbody>\n",
       "    <tr>\n",
       "      <th>13</th>\n",
       "      <td>Как связаться с техподдержкой?</td>\n",
       "      <td>other</td>\n",
       "      <td>complaint</td>\n",
       "    </tr>\n",
       "    <tr>\n",
       "      <th>14</th>\n",
       "      <td>В чеке ошибка, сумма не совпадает с меню</td>\n",
       "      <td>complaint</td>\n",
       "      <td>other</td>\n",
       "    </tr>\n",
       "    <tr>\n",
       "      <th>16</th>\n",
       "      <td>Отмени всё к чертям</td>\n",
       "      <td>cancel</td>\n",
       "      <td>complaint</td>\n",
       "    </tr>\n",
       "    <tr>\n",
       "      <th>19</th>\n",
       "      <td>Бургер и кола</td>\n",
       "      <td>order</td>\n",
       "      <td>complaint</td>\n",
       "    </tr>\n",
       "    <tr>\n",
       "      <th>20</th>\n",
       "      <td>Не могу найти где оплатить</td>\n",
       "      <td>payment</td>\n",
       "      <td>complaint</td>\n",
       "    </tr>\n",
       "  </tbody>\n",
       "</table>\n",
       "</div>"
      ],
      "text/plain": [
       "                                        text true_label pred_label\n",
       "13            Как связаться с техподдержкой?      other  complaint\n",
       "14  В чеке ошибка, сумма не совпадает с меню  complaint      other\n",
       "16                       Отмени всё к чертям     cancel  complaint\n",
       "19                             Бургер и кола      order  complaint\n",
       "20                Не могу найти где оплатить    payment  complaint"
      ]
     },
     "execution_count": 44,
     "metadata": {},
     "output_type": "execute_result"
    }
   ],
   "source": [
    "# таблица по самописной логистической регрессии с токенизацией от трансформера и двумя доп слоями линейными\n",
    "erors_dfs[2]"
   ]
  },
  {
   "cell_type": "markdown",
   "id": "81918453",
   "metadata": {},
   "source": [
    "Модель стала ещё реже ошибаться, и как мы видим тоже переобучена на предсказание complaint"
   ]
  },
  {
   "cell_type": "code",
   "execution_count": 45,
   "id": "eef96698",
   "metadata": {},
   "outputs": [
    {
     "data": {
      "text/html": [
       "<div>\n",
       "<style scoped>\n",
       "    .dataframe tbody tr th:only-of-type {\n",
       "        vertical-align: middle;\n",
       "    }\n",
       "\n",
       "    .dataframe tbody tr th {\n",
       "        vertical-align: top;\n",
       "    }\n",
       "\n",
       "    .dataframe thead th {\n",
       "        text-align: right;\n",
       "    }\n",
       "</style>\n",
       "<table border=\"1\" class=\"dataframe\">\n",
       "  <thead>\n",
       "    <tr style=\"text-align: right;\">\n",
       "      <th></th>\n",
       "      <th>text</th>\n",
       "      <th>true_label</th>\n",
       "      <th>pred_label</th>\n",
       "    </tr>\n",
       "  </thead>\n",
       "  <tbody>\n",
       "    <tr>\n",
       "      <th>2</th>\n",
       "      <td>Срочно нужен кофе!</td>\n",
       "      <td>order</td>\n",
       "      <td>complaint</td>\n",
       "    </tr>\n",
       "    <tr>\n",
       "      <th>4</th>\n",
       "      <td>Как устроиться к вам курьером?</td>\n",
       "      <td>other</td>\n",
       "      <td>payment</td>\n",
       "    </tr>\n",
       "    <tr>\n",
       "      <th>20</th>\n",
       "      <td>Не могу найти где оплатить</td>\n",
       "      <td>payment</td>\n",
       "      <td>complaint</td>\n",
       "    </tr>\n",
       "  </tbody>\n",
       "</table>\n",
       "</div>"
      ],
      "text/plain": [
       "                              text true_label pred_label\n",
       "2               Срочно нужен кофе!      order  complaint\n",
       "4   Как устроиться к вам курьером?      other    payment\n",
       "20      Не могу найти где оплатить    payment  complaint"
      ]
     },
     "execution_count": 45,
     "metadata": {},
     "output_type": "execute_result"
    }
   ],
   "source": [
    "# Fine tune модели all-MiniLM-L6-v2\n",
    "erors_dfs[3]"
   ]
  },
  {
   "cell_type": "markdown",
   "id": "3659ef7c",
   "metadata": {},
   "source": [
    "здесь мы можем увидеть, что модель стала ещё лучше, встречаются забавные случаи что модель, предполагает что если предложение в повелительном наклонении значит это жалоба, но всё также не может справиться с граничными случаями"
   ]
  },
  {
   "cell_type": "markdown",
   "id": "8209ac65",
   "metadata": {},
   "source": [
    "### Выводы"
   ]
  },
  {
   "cell_type": "markdown",
   "id": "26200e18",
   "metadata": {},
   "source": [
    "* Как видим из результатов Logistic Regression и Logistic Regression с эмбедингами от трансформера дали идентичные результаты никакой разницы не случилось.\n",
    "* Самописная реализация модели Logistic Regression с двумя дополнительными линейными слоями (Dense в tensorflow, но я пишу на Pytorch, где это Linear) показала точность выше первых двух на 10 % на всех классах, стала лучше предсказывать other и payment, но всё также плохо предсказывает класс complaint.\n",
    "* Дообучение модели трансформерной архитектуры all-MiniLM-L6-v2 показало точность выше самописной реализации Logistic Regression на 3% на всех классах, стала лучше предсказывать complaint, но точность по payments уменьшилась.\n",
    "\n"
   ]
  },
  {
   "cell_type": "markdown",
   "id": "56e76124",
   "metadata": {},
   "source": [
    "В целом архитектура нейронной сети когда мы получаем эмбединги с помощью трансформерного токенизатора а не с помощью TF-IDF мы получаем больший прирост за счёт того что модель воспринимает нюансы в контексте, и может легко обрабатывать как тексты с опечаткой так и сленговые выражения"
   ]
  },
  {
   "cell_type": "markdown",
   "id": "6e53d81b",
   "metadata": {},
   "source": [
    "## Улучшения"
   ]
  },
  {
   "cell_type": "markdown",
   "id": "0e5a9f89",
   "metadata": {},
   "source": [
    "1. Добавить fallback, то есть если модель не уверен в точности отправлять для уточнения запросы.\n",
    "2. отправлять проверяющему для проверки правилность классификации в случаях маленькой точности, тем самым записывать утверждения человека для дообучения модели\n",
    "3. Добавить взаимодействие с RAG(то есть добавить информацию и контекста модели, чтобы она искала по базе знаний, документы, меню и т.д.)\n",
    "\n",
    "Для обработки edge-кейсов можно попробовать обучить отдельный детектор надстройку над моделью для таких случаев, чтобы появилась возможность понимать, что не просто отмена, а отмена чего именно(отмена заказа, отмена платежа)\n",
    "По пользовательскому запросу ищем близкие отрывки (из меню, политики, FAQ) с помощью RAG и передаем в контекст модели, чтобы она генерировала более коректный ответ, производила более точную классификацию."
   ]
  }
 ],
 "metadata": {
  "kernelspec": {
   "display_name": ".venv",
   "language": "python",
   "name": "python3"
  },
  "language_info": {
   "codemirror_mode": {
    "name": "ipython",
    "version": 3
   },
   "file_extension": ".py",
   "mimetype": "text/x-python",
   "name": "python",
   "nbconvert_exporter": "python",
   "pygments_lexer": "ipython3",
   "version": "3.10.11"
  }
 },
 "nbformat": 4,
 "nbformat_minor": 5
}
